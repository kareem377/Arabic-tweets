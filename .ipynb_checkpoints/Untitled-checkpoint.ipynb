{
 "cells": [
  {
   "cell_type": "markdown",
   "id": "654c9ebe",
   "metadata": {},
   "source": [
    "### importing neccesary libiraries"
   ]
  },
  {
   "cell_type": "code",
   "execution_count": 1,
   "id": "7cb32c43",
   "metadata": {},
   "outputs": [],
   "source": [
    "import pandas as pd\n",
    "import numpy as np \n",
    "import re\n",
    "import pyarabic.araby as araby\n",
    "from pyarabic.araby import strip_harakat\n",
    "from pyarabic.araby import strip_tashkeel\n",
    "from pyarabic.araby import strip_diacritics\n",
    "from pyarabic.araby import strip_tatweel, strip_shadda\n",
    "from pyarabic.araby import normalize_ligature\n",
    "\n"
   ]
  },
  {
   "cell_type": "code",
   "execution_count": 32,
   "id": "1a246de6",
   "metadata": {},
   "outputs": [],
   "source": [
    "import pandas as pd\n",
    "import numpy as np \n",
    "import re\n",
    "import pyarabic.araby as araby\n",
    "import tweepy\n",
    "import seaborn as sns\n",
    "from textblob import TextBlob\n",
    "from pyarabic.araby import strip_harakat\n",
    "from pyarabic.araby import strip_tashkeel\n",
    "from pyarabic.araby import strip_diacritics\n",
    "from pyarabic.araby import strip_tatweel, strip_shadda\n",
    "from pyarabic.araby import normalize_ligature\n",
    "from sklearn.feature_extraction.text import TfidfVectorizer\n",
    "from sklearn.linear_model import LogisticRegression \n",
    "from sklearn.model_selection import cross_val_score \n",
    "from sklearn.metrics import f1_score"
   ]
  },
  {
   "cell_type": "markdown",
   "id": "71c09a28",
   "metadata": {},
   "source": [
    "### loading data in a dataframe"
   ]
  },
  {
   "cell_type": "code",
   "execution_count": 33,
   "id": "7e5d550f",
   "metadata": {},
   "outputs": [],
   "source": [
    "labels=['state','tweet']\n",
    "\n",
    "df1=pd.read_csv('negative.tsv',sep='\\t',names=labels)\n",
    "df2=pd.read_csv(\"positive.tsv\",sep=\"\\t\",names=labels)"
   ]
  },
  {
   "cell_type": "markdown",
   "id": "5a5c7160",
   "metadata": {},
   "source": [
    "### merging the two dataframes"
   ]
  },
  {
   "cell_type": "code",
   "execution_count": 34,
   "id": "0f563343",
   "metadata": {},
   "outputs": [
    {
     "name": "stdout",
     "output_type": "stream",
     "text": [
      "<class 'pandas.core.frame.DataFrame'>\n",
      "Int64Index: 45275 entries, 0 to 22760\n",
      "Data columns (total 2 columns):\n",
      " #   Column  Non-Null Count  Dtype \n",
      "---  ------  --------------  ----- \n",
      " 0   state   45275 non-null  object\n",
      " 1   tweet   45275 non-null  object\n",
      "dtypes: object(2)\n",
      "memory usage: 1.0+ MB\n"
     ]
    }
   ],
   "source": [
    "df=df1.append(df2)\n",
    "df.info()\n"
   ]
  },
  {
   "cell_type": "markdown",
   "id": "16d9e2f1",
   "metadata": {},
   "source": [
    "### checking for the unique values to know the duplicated rows"
   ]
  },
  {
   "cell_type": "code",
   "execution_count": 35,
   "id": "c5078474",
   "metadata": {},
   "outputs": [
    {
     "data": {
      "text/plain": [
       "state        2\n",
       "tweet    29449\n",
       "dtype: int64"
      ]
     },
     "execution_count": 35,
     "metadata": {},
     "output_type": "execute_result"
    }
   ],
   "source": [
    "df.nunique()"
   ]
  },
  {
   "cell_type": "code",
   "execution_count": 36,
   "id": "d6bbf757",
   "metadata": {},
   "outputs": [
    {
     "data": {
      "text/plain": [
       "(45275, 2)"
      ]
     },
     "execution_count": 36,
     "metadata": {},
     "output_type": "execute_result"
    }
   ],
   "source": [
    "df.shape"
   ]
  },
  {
   "cell_type": "markdown",
   "id": "1e6a19e7",
   "metadata": {},
   "source": [
    "### checking for the duplicated tweets  "
   ]
  },
  {
   "cell_type": "code",
   "execution_count": 37,
   "id": "476a609a",
   "metadata": {},
   "outputs": [
    {
     "data": {
      "text/plain": [
       "15826"
      ]
     },
     "execution_count": 37,
     "metadata": {},
     "output_type": "execute_result"
    }
   ],
   "source": [
    "df.tweet.duplicated().sum()"
   ]
  },
  {
   "cell_type": "markdown",
   "id": "93e2e9aa",
   "metadata": {},
   "source": [
    "### droping the duplicated rows for accurate calculations"
   ]
  },
  {
   "cell_type": "code",
   "execution_count": 38,
   "id": "4f4892e2",
   "metadata": {},
   "outputs": [],
   "source": [
    "df.drop_duplicates(inplace=True)\n"
   ]
  },
  {
   "cell_type": "code",
   "execution_count": 39,
   "id": "744be6e5",
   "metadata": {},
   "outputs": [
    {
     "data": {
      "text/html": [
       "<div>\n",
       "<style scoped>\n",
       "    .dataframe tbody tr th:only-of-type {\n",
       "        vertical-align: middle;\n",
       "    }\n",
       "\n",
       "    .dataframe tbody tr th {\n",
       "        vertical-align: top;\n",
       "    }\n",
       "\n",
       "    .dataframe thead th {\n",
       "        text-align: right;\n",
       "    }\n",
       "</style>\n",
       "<table border=\"1\" class=\"dataframe\">\n",
       "  <thead>\n",
       "    <tr style=\"text-align: right;\">\n",
       "      <th></th>\n",
       "      <th>state</th>\n",
       "      <th>tweet</th>\n",
       "    </tr>\n",
       "  </thead>\n",
       "  <tbody>\n",
       "    <tr>\n",
       "      <th>0</th>\n",
       "      <td>neg</td>\n",
       "      <td>اعترف ان بتس كانو شوي شوي يجيبو راسي لكن اليوم...</td>\n",
       "    </tr>\n",
       "    <tr>\n",
       "      <th>1</th>\n",
       "      <td>neg</td>\n",
       "      <td>توقعت اذا جات داريا بشوفهم كاملين بس لي للحين ...</td>\n",
       "    </tr>\n",
       "    <tr>\n",
       "      <th>2</th>\n",
       "      <td>neg</td>\n",
       "      <td>#الاهلي_الهلال اكتب توقعك لنتيجة لقاء الهلال و...</td>\n",
       "    </tr>\n",
       "    <tr>\n",
       "      <th>3</th>\n",
       "      <td>neg</td>\n",
       "      <td>نعمة المضادات الحيوية . تضع قطرة💧مضاد بنسلين ع...</td>\n",
       "    </tr>\n",
       "    <tr>\n",
       "      <th>4</th>\n",
       "      <td>neg</td>\n",
       "      <td>الدودو جايه تكمل علي 💔</td>\n",
       "    </tr>\n",
       "    <tr>\n",
       "      <th>...</th>\n",
       "      <td>...</td>\n",
       "      <td>...</td>\n",
       "    </tr>\n",
       "    <tr>\n",
       "      <th>22748</th>\n",
       "      <td>pos</td>\n",
       "      <td>دايما شغلهم بأماكن حقيقية ومافيه فوتوشوب ولو ح...</td>\n",
       "    </tr>\n",
       "    <tr>\n",
       "      <th>22750</th>\n",
       "      <td>pos</td>\n",
       "      <td>ستفرج بطريقة يعجز عقلك عن إستيعابها، بإذن الله 💛</td>\n",
       "    </tr>\n",
       "    <tr>\n",
       "      <th>22752</th>\n",
       "      <td>pos</td>\n",
       "      <td>لا لا العميد مراح نقول عنه شي 🙂 بس المساكين ال...</td>\n",
       "    </tr>\n",
       "    <tr>\n",
       "      <th>22753</th>\n",
       "      <td>pos</td>\n",
       "      <td>- على سبيل إعادة التدوير 🌸 #أدوات_تعزز_الإستدا...</td>\n",
       "    </tr>\n",
       "    <tr>\n",
       "      <th>22758</th>\n",
       "      <td>pos</td>\n",
       "      <td>كلاام جمييل تستاهل(من احبه الله جعل محبته ف قل...</td>\n",
       "    </tr>\n",
       "  </tbody>\n",
       "</table>\n",
       "<p>29554 rows × 2 columns</p>\n",
       "</div>"
      ],
      "text/plain": [
       "      state                                              tweet\n",
       "0       neg  اعترف ان بتس كانو شوي شوي يجيبو راسي لكن اليوم...\n",
       "1       neg  توقعت اذا جات داريا بشوفهم كاملين بس لي للحين ...\n",
       "2       neg  #الاهلي_الهلال اكتب توقعك لنتيجة لقاء الهلال و...\n",
       "3       neg  نعمة المضادات الحيوية . تضع قطرة💧مضاد بنسلين ع...\n",
       "4       neg                             الدودو جايه تكمل علي 💔\n",
       "...     ...                                                ...\n",
       "22748   pos  دايما شغلهم بأماكن حقيقية ومافيه فوتوشوب ولو ح...\n",
       "22750   pos   ستفرج بطريقة يعجز عقلك عن إستيعابها، بإذن الله 💛\n",
       "22752   pos  لا لا العميد مراح نقول عنه شي 🙂 بس المساكين ال...\n",
       "22753   pos  - على سبيل إعادة التدوير 🌸 #أدوات_تعزز_الإستدا...\n",
       "22758   pos  كلاام جمييل تستاهل(من احبه الله جعل محبته ف قل...\n",
       "\n",
       "[29554 rows x 2 columns]"
      ]
     },
     "execution_count": 39,
     "metadata": {},
     "output_type": "execute_result"
    }
   ],
   "source": [
    "df\n"
   ]
  },
  {
   "cell_type": "markdown",
   "id": "dd5b22ed",
   "metadata": {},
   "source": [
    "### implementing remove emojis function"
   ]
  },
  {
   "cell_type": "code",
   "execution_count": 40,
   "id": "b6a3c69d",
   "metadata": {},
   "outputs": [],
   "source": [
    " def remove_emojis(data) :\n",
    "    emoj = re.compile(\"[\"\n",
    "        u\"\\U0001F600-\\U0001F64F\"  # emoticons\n",
    "        u\"\\U0001F300-\\U0001F5FF\"  # symbols & pictographs\n",
    "        u\"\\U0001F680-\\U0001F6FF\"  # transport & map symbols\n",
    "        u\"\\U0001F1E0-\\U0001F1FF\"  # flags (iOS)\n",
    "        u\"\\U00002500-\\U00002BEF\"  # chinese char\n",
    "        u\"\\U00002702-\\U000027B0\"\n",
    "        u\"\\U00002702-\\U000027B0\"\n",
    "        u\"\\U000024C2-\\U0001F251\"\n",
    "        u\"\\U0001f926-\\U0001f937\"\n",
    "        u\"\\U00010000-\\U0010ffff\"\n",
    "        u\"\\u2640-\\u2642\" \n",
    "        u\"\\u2600-\\u2B55\"\n",
    "        u\"\\u200d\"\n",
    "        u\"\\u23cf\"\n",
    "        u\"\\u23e9\"\n",
    "        u\"\\u231a\"\n",
    "        u\"\\ufe0f\"  # dingbats\n",
    "        u\"\\u3030\"\n",
    "                      \"]+\", re.UNICODE)\n",
    "    return re.sub(emoj, '', data)\n"
   ]
  },
  {
   "cell_type": "markdown",
   "id": "a453c0a4",
   "metadata": {},
   "source": [
    "### applying the remove_emojis funtion on the tweets column"
   ]
  },
  {
   "cell_type": "code",
   "execution_count": 41,
   "id": "7348015d",
   "metadata": {},
   "outputs": [],
   "source": [
    " df['tweet']=df['tweet'].apply(remove_emojis)"
   ]
  },
  {
   "cell_type": "code",
   "execution_count": 42,
   "id": "70e18b48",
   "metadata": {},
   "outputs": [
    {
     "data": {
      "text/html": [
       "<div>\n",
       "<style scoped>\n",
       "    .dataframe tbody tr th:only-of-type {\n",
       "        vertical-align: middle;\n",
       "    }\n",
       "\n",
       "    .dataframe tbody tr th {\n",
       "        vertical-align: top;\n",
       "    }\n",
       "\n",
       "    .dataframe thead th {\n",
       "        text-align: right;\n",
       "    }\n",
       "</style>\n",
       "<table border=\"1\" class=\"dataframe\">\n",
       "  <thead>\n",
       "    <tr style=\"text-align: right;\">\n",
       "      <th></th>\n",
       "      <th>state</th>\n",
       "      <th>tweet</th>\n",
       "    </tr>\n",
       "  </thead>\n",
       "  <tbody>\n",
       "    <tr>\n",
       "      <th>0</th>\n",
       "      <td>neg</td>\n",
       "      <td>اعترف ان بتس كانو شوي شوي يجيبو راسي لكن اليوم...</td>\n",
       "    </tr>\n",
       "    <tr>\n",
       "      <th>1</th>\n",
       "      <td>neg</td>\n",
       "      <td>توقعت اذا جات داريا بشوفهم كاملين بس لي للحين ...</td>\n",
       "    </tr>\n",
       "    <tr>\n",
       "      <th>2</th>\n",
       "      <td>neg</td>\n",
       "      <td>#الاهلي_الهلال اكتب توقعك لنتيجة لقاء الهلال و...</td>\n",
       "    </tr>\n",
       "    <tr>\n",
       "      <th>3</th>\n",
       "      <td>neg</td>\n",
       "      <td>نعمة المضادات الحيوية . تضع قطرةمضاد بنسلين عل...</td>\n",
       "    </tr>\n",
       "    <tr>\n",
       "      <th>4</th>\n",
       "      <td>neg</td>\n",
       "      <td>الدودو جايه تكمل علي</td>\n",
       "    </tr>\n",
       "    <tr>\n",
       "      <th>...</th>\n",
       "      <td>...</td>\n",
       "      <td>...</td>\n",
       "    </tr>\n",
       "    <tr>\n",
       "      <th>22748</th>\n",
       "      <td>pos</td>\n",
       "      <td>دايما شغلهم بأماكن حقيقية ومافيه فوتوشوب ولو ح...</td>\n",
       "    </tr>\n",
       "    <tr>\n",
       "      <th>22750</th>\n",
       "      <td>pos</td>\n",
       "      <td>ستفرج بطريقة يعجز عقلك عن إستيعابها، بإذن الله</td>\n",
       "    </tr>\n",
       "    <tr>\n",
       "      <th>22752</th>\n",
       "      <td>pos</td>\n",
       "      <td>لا لا العميد مراح نقول عنه شي  بس المساكين الي...</td>\n",
       "    </tr>\n",
       "    <tr>\n",
       "      <th>22753</th>\n",
       "      <td>pos</td>\n",
       "      <td>- على سبيل إعادة التدوير  #أدوات_تعزز_الإستدامة</td>\n",
       "    </tr>\n",
       "    <tr>\n",
       "      <th>22758</th>\n",
       "      <td>pos</td>\n",
       "      <td>كلاام جمييل تستاهل(من احبه الله جعل محبته ف قل...</td>\n",
       "    </tr>\n",
       "  </tbody>\n",
       "</table>\n",
       "<p>29554 rows × 2 columns</p>\n",
       "</div>"
      ],
      "text/plain": [
       "      state                                              tweet\n",
       "0       neg  اعترف ان بتس كانو شوي شوي يجيبو راسي لكن اليوم...\n",
       "1       neg  توقعت اذا جات داريا بشوفهم كاملين بس لي للحين ...\n",
       "2       neg  #الاهلي_الهلال اكتب توقعك لنتيجة لقاء الهلال و...\n",
       "3       neg  نعمة المضادات الحيوية . تضع قطرةمضاد بنسلين عل...\n",
       "4       neg                              الدودو جايه تكمل علي \n",
       "...     ...                                                ...\n",
       "22748   pos  دايما شغلهم بأماكن حقيقية ومافيه فوتوشوب ولو ح...\n",
       "22750   pos    ستفرج بطريقة يعجز عقلك عن إستيعابها، بإذن الله \n",
       "22752   pos  لا لا العميد مراح نقول عنه شي  بس المساكين الي...\n",
       "22753   pos   - على سبيل إعادة التدوير  #أدوات_تعزز_الإستدامة \n",
       "22758   pos  كلاام جمييل تستاهل(من احبه الله جعل محبته ف قل...\n",
       "\n",
       "[29554 rows x 2 columns]"
      ]
     },
     "execution_count": 42,
     "metadata": {},
     "output_type": "execute_result"
    }
   ],
   "source": [
    "df"
   ]
  },
  {
   "cell_type": "markdown",
   "id": "55579681",
   "metadata": {},
   "source": [
    "### applying built in functions to remove tashkel and other exxcessives of the language"
   ]
  },
  {
   "cell_type": "code",
   "execution_count": 43,
   "id": "5b91c90b",
   "metadata": {},
   "outputs": [],
   "source": [
    "df['tweet']=df['tweet'].apply(strip_harakat)"
   ]
  },
  {
   "cell_type": "code",
   "execution_count": 44,
   "id": "aa67abf5",
   "metadata": {},
   "outputs": [],
   "source": [
    "df['tweet']=df['tweet'].apply(strip_tashkeel)"
   ]
  },
  {
   "cell_type": "code",
   "execution_count": 45,
   "id": "70a2311c",
   "metadata": {},
   "outputs": [],
   "source": [
    "df['tweet']=df['tweet'].apply(araby.strip_diacritics)"
   ]
  },
  {
   "cell_type": "code",
   "execution_count": 46,
   "id": "e725c793",
   "metadata": {},
   "outputs": [],
   "source": [
    "df['tweet']=df['tweet'].apply(araby.strip_shadda)"
   ]
  },
  {
   "cell_type": "code",
   "execution_count": 47,
   "id": "b1bc12f9",
   "metadata": {},
   "outputs": [],
   "source": [
    "df['tweet']=df['tweet'].apply(araby.strip_tatweel)"
   ]
  },
  {
   "cell_type": "code",
   "execution_count": 48,
   "id": "34d7d8e2",
   "metadata": {},
   "outputs": [],
   "source": [
    "df['tweet']=df['tweet'].apply(araby.normalize_ligature)"
   ]
  },
  {
   "cell_type": "code",
   "execution_count": 49,
   "id": "7d05c524",
   "metadata": {},
   "outputs": [],
   "source": [
    "df['tweet'] = df['tweet'].replace({'\\#': '', ',': '','$':'','!':' ','؟':' '}, regex=True)"
   ]
  },
  {
   "cell_type": "markdown",
   "id": "c7653d63",
   "metadata": {},
   "source": [
    "### exploring the data after removing the unneccesaries of the tweets  "
   ]
  },
  {
   "cell_type": "code",
   "execution_count": 50,
   "id": "018bce96",
   "metadata": {},
   "outputs": [
    {
     "data": {
      "text/html": [
       "<div>\n",
       "<style scoped>\n",
       "    .dataframe tbody tr th:only-of-type {\n",
       "        vertical-align: middle;\n",
       "    }\n",
       "\n",
       "    .dataframe tbody tr th {\n",
       "        vertical-align: top;\n",
       "    }\n",
       "\n",
       "    .dataframe thead th {\n",
       "        text-align: right;\n",
       "    }\n",
       "</style>\n",
       "<table border=\"1\" class=\"dataframe\">\n",
       "  <thead>\n",
       "    <tr style=\"text-align: right;\">\n",
       "      <th></th>\n",
       "      <th>state</th>\n",
       "      <th>tweet</th>\n",
       "    </tr>\n",
       "  </thead>\n",
       "  <tbody>\n",
       "    <tr>\n",
       "      <th>0</th>\n",
       "      <td>neg</td>\n",
       "      <td>اعترف ان بتس كانو شوي شوي يجيبو راسي لكن اليوم...</td>\n",
       "    </tr>\n",
       "    <tr>\n",
       "      <th>1</th>\n",
       "      <td>neg</td>\n",
       "      <td>توقعت اذا جات داريا بشوفهم كاملين بس لي للحين ...</td>\n",
       "    </tr>\n",
       "    <tr>\n",
       "      <th>2</th>\n",
       "      <td>neg</td>\n",
       "      <td>الاهلي_الهلال اكتب توقعك لنتيجة لقاء الهلال وا...</td>\n",
       "    </tr>\n",
       "    <tr>\n",
       "      <th>3</th>\n",
       "      <td>neg</td>\n",
       "      <td>نعمة المضادات الحيوية . تضع قطرةمضاد بنسلين عل...</td>\n",
       "    </tr>\n",
       "    <tr>\n",
       "      <th>4</th>\n",
       "      <td>neg</td>\n",
       "      <td>الدودو جايه تكمل علي</td>\n",
       "    </tr>\n",
       "    <tr>\n",
       "      <th>...</th>\n",
       "      <td>...</td>\n",
       "      <td>...</td>\n",
       "    </tr>\n",
       "    <tr>\n",
       "      <th>22748</th>\n",
       "      <td>pos</td>\n",
       "      <td>دايما شغلهم بأماكن حقيقية ومافيه فوتوشوب ولو ح...</td>\n",
       "    </tr>\n",
       "    <tr>\n",
       "      <th>22750</th>\n",
       "      <td>pos</td>\n",
       "      <td>ستفرج بطريقة يعجز عقلك عن إستيعابها، بإذن الله</td>\n",
       "    </tr>\n",
       "    <tr>\n",
       "      <th>22752</th>\n",
       "      <td>pos</td>\n",
       "      <td>لا لا العميد مراح نقول عنه شي  بس المساكين الي...</td>\n",
       "    </tr>\n",
       "    <tr>\n",
       "      <th>22753</th>\n",
       "      <td>pos</td>\n",
       "      <td>- على سبيل إعادة التدوير  أدوات_تعزز_الإستدامة</td>\n",
       "    </tr>\n",
       "    <tr>\n",
       "      <th>22758</th>\n",
       "      <td>pos</td>\n",
       "      <td>كلاام جمييل تستاهل(من احبه الله جعل محبته ف قل...</td>\n",
       "    </tr>\n",
       "  </tbody>\n",
       "</table>\n",
       "<p>29554 rows × 2 columns</p>\n",
       "</div>"
      ],
      "text/plain": [
       "      state                                              tweet\n",
       "0       neg  اعترف ان بتس كانو شوي شوي يجيبو راسي لكن اليوم...\n",
       "1       neg  توقعت اذا جات داريا بشوفهم كاملين بس لي للحين ...\n",
       "2       neg  الاهلي_الهلال اكتب توقعك لنتيجة لقاء الهلال وا...\n",
       "3       neg  نعمة المضادات الحيوية . تضع قطرةمضاد بنسلين عل...\n",
       "4       neg                              الدودو جايه تكمل علي \n",
       "...     ...                                                ...\n",
       "22748   pos  دايما شغلهم بأماكن حقيقية ومافيه فوتوشوب ولو ح...\n",
       "22750   pos    ستفرج بطريقة يعجز عقلك عن إستيعابها، بإذن الله \n",
       "22752   pos  لا لا العميد مراح نقول عنه شي  بس المساكين الي...\n",
       "22753   pos    - على سبيل إعادة التدوير  أدوات_تعزز_الإستدامة \n",
       "22758   pos  كلاام جمييل تستاهل(من احبه الله جعل محبته ف قل...\n",
       "\n",
       "[29554 rows x 2 columns]"
      ]
     },
     "execution_count": 50,
     "metadata": {},
     "output_type": "execute_result"
    }
   ],
   "source": [
    "df"
   ]
  },
  {
   "cell_type": "markdown",
   "id": "7620f31d",
   "metadata": {},
   "source": [
    "### removing stop words "
   ]
  },
  {
   "cell_type": "code",
   "execution_count": 51,
   "id": "09019003",
   "metadata": {},
   "outputs": [],
   "source": [
    "import nltk"
   ]
  },
  {
   "cell_type": "code",
   "execution_count": 52,
   "id": "7f92aaa4",
   "metadata": {},
   "outputs": [
    {
     "name": "stderr",
     "output_type": "stream",
     "text": [
      "[nltk_data] Downloading package stopwords to\n",
      "[nltk_data]     C:\\Users\\Kareem\\AppData\\Roaming\\nltk_data...\n",
      "[nltk_data]   Package stopwords is already up-to-date!\n"
     ]
    },
    {
     "data": {
      "text/plain": [
       "True"
      ]
     },
     "execution_count": 52,
     "metadata": {},
     "output_type": "execute_result"
    }
   ],
   "source": [
    "nltk.download(\"stopwords\")"
   ]
  },
  {
   "cell_type": "code",
   "execution_count": 53,
   "id": "7f268249",
   "metadata": {},
   "outputs": [
    {
     "name": "stdout",
     "output_type": "stream",
     "text": [
      "754\n"
     ]
    }
   ],
   "source": [
    "from nltk.corpus import stopwords\n",
    "arabic =stopwords.words('arabic')\n",
    "print(len(arabic))\n"
   ]
  },
  {
   "cell_type": "code",
   "execution_count": 54,
   "id": "f7b2c904",
   "metadata": {},
   "outputs": [
    {
     "name": "stdout",
     "output_type": "stream",
     "text": [
      "['إذ', 'إذا', 'إذما', 'إذن', 'أف', 'أقل', 'أكثر', 'ألا', 'إلا', 'التي', 'الذي', 'الذين', 'اللاتي', 'اللائي', 'اللتان', 'اللتيا', 'اللتين', 'اللذان', 'اللذين', 'اللواتي', 'إلى', 'إليك', 'إليكم', 'إليكما', 'إليكن', 'أم', 'أما', 'أما', 'إما', 'أن', 'إن', 'إنا', 'أنا', 'أنت', 'أنتم', 'أنتما', 'أنتن', 'إنما', 'إنه', 'أنى', 'أنى', 'آه', 'آها', 'أو', 'أولاء', 'أولئك', 'أوه', 'آي', 'أي', 'أيها', 'إي', 'أين', 'أين', 'أينما', 'إيه', 'بخ', 'بس', 'بعد', 'بعض', 'بك', 'بكم', 'بكم', 'بكما', 'بكن', 'بل', 'بلى', 'بما', 'بماذا', 'بمن', 'بنا', 'به', 'بها', 'بهم', 'بهما', 'بهن', 'بي', 'بين', 'بيد', 'تلك', 'تلكم', 'تلكما', 'ته', 'تي', 'تين', 'تينك', 'ثم', 'ثمة', 'حاشا', 'حبذا', 'حتى', 'حيث', 'حيثما', 'حين', 'خلا', 'دون', 'ذا', 'ذات', 'ذاك', 'ذان', 'ذانك', 'ذلك', 'ذلكم', 'ذلكما', 'ذلكن', 'ذه', 'ذو', 'ذوا', 'ذواتا', 'ذواتي', 'ذي', 'ذين', 'ذينك', 'ريث', 'سوف', 'سوى', 'شتان', 'عدا', 'عسى', 'عل', 'على', 'عليك', 'عليه', 'عما', 'عن', 'عند', 'غير', 'فإذا', 'فإن', 'فلا', 'فمن', 'في', 'فيم', 'فيما', 'فيه', 'فيها', 'قد', 'كأن', 'كأنما', 'كأي', 'كأين', 'كذا', 'كذلك', 'كل', 'كلا', 'كلاهما', 'كلتا', 'كلما', 'كليكما', 'كليهما', 'كم', 'كم', 'كما', 'كي', 'كيت', 'كيف', 'كيفما', 'لا', 'لاسيما', 'لدى', 'لست', 'لستم', 'لستما', 'لستن', 'لسن', 'لسنا', 'لعل', 'لك', 'لكم', 'لكما', 'لكن', 'لكنما', 'لكي', 'لكيلا', 'لم', 'لما', 'لن', 'لنا', 'له', 'لها', 'لهم', 'لهما', 'لهن', 'لو', 'لولا', 'لوما', 'لي', 'لئن', 'ليت', 'ليس', 'ليسا', 'ليست', 'ليستا', 'ليسوا', 'ما', 'ماذا', 'متى', 'مذ', 'مع', 'مما', 'ممن', 'من', 'منه', 'منها', 'منذ', 'مه', 'مهما', 'نحن', 'نحو', 'نعم', 'ها', 'هاتان', 'هاته', 'هاتي', 'هاتين', 'هاك', 'هاهنا', 'هذا', 'هذان', 'هذه', 'هذي', 'هذين', 'هكذا', 'هل', 'هلا', 'هم', 'هما', 'هن', 'هنا', 'هناك', 'هنالك', 'هو', 'هؤلاء', 'هي', 'هيا', 'هيت', 'هيهات', 'والذي', 'والذين', 'وإذ', 'وإذا', 'وإن', 'ولا', 'ولكن', 'ولو', 'وما', 'ومن', 'وهو', 'يا', 'أبٌ', 'أخٌ', 'حمٌ', 'فو', 'أنتِ', 'يناير', 'فبراير', 'مارس', 'أبريل', 'مايو', 'يونيو', 'يوليو', 'أغسطس', 'سبتمبر', 'أكتوبر', 'نوفمبر', 'ديسمبر', 'جانفي', 'فيفري', 'مارس', 'أفريل', 'ماي', 'جوان', 'جويلية', 'أوت', 'كانون', 'شباط', 'آذار', 'نيسان', 'أيار', 'حزيران', 'تموز', 'آب', 'أيلول', 'تشرين', 'دولار', 'دينار', 'ريال', 'درهم', 'ليرة', 'جنيه', 'قرش', 'مليم', 'فلس', 'هللة', 'سنتيم', 'يورو', 'ين', 'يوان', 'شيكل', 'واحد', 'اثنان', 'ثلاثة', 'أربعة', 'خمسة', 'ستة', 'سبعة', 'ثمانية', 'تسعة', 'عشرة', 'أحد', 'اثنا', 'اثني', 'إحدى', 'ثلاث', 'أربع', 'خمس', 'ست', 'سبع', 'ثماني', 'تسع', 'عشر', 'ثمان', 'سبت', 'أحد', 'اثنين', 'ثلاثاء', 'أربعاء', 'خميس', 'جمعة', 'أول', 'ثان', 'ثاني', 'ثالث', 'رابع', 'خامس', 'سادس', 'سابع', 'ثامن', 'تاسع', 'عاشر', 'حادي', 'أ', 'ب', 'ت', 'ث', 'ج', 'ح', 'خ', 'د', 'ذ', 'ر', 'ز', 'س', 'ش', 'ص', 'ض', 'ط', 'ظ', 'ع', 'غ', 'ف', 'ق', 'ك', 'ل', 'م', 'ن', 'ه', 'و', 'ي', 'ء', 'ى', 'آ', 'ؤ', 'ئ', 'أ', 'ة', 'ألف', 'باء', 'تاء', 'ثاء', 'جيم', 'حاء', 'خاء', 'دال', 'ذال', 'راء', 'زاي', 'سين', 'شين', 'صاد', 'ضاد', 'طاء', 'ظاء', 'عين', 'غين', 'فاء', 'قاف', 'كاف', 'لام', 'ميم', 'نون', 'هاء', 'واو', 'ياء', 'همزة', 'ي', 'نا', 'ك', 'كن', 'ه', 'إياه', 'إياها', 'إياهما', 'إياهم', 'إياهن', 'إياك', 'إياكما', 'إياكم', 'إياك', 'إياكن', 'إياي', 'إيانا', 'أولالك', 'تانِ', 'تانِك', 'تِه', 'تِي', 'تَيْنِ', 'ثمّ', 'ثمّة', 'ذانِ', 'ذِه', 'ذِي', 'ذَيْنِ', 'هَؤلاء', 'هَاتانِ', 'هَاتِه', 'هَاتِي', 'هَاتَيْنِ', 'هَذا', 'هَذانِ', 'هَذِه', 'هَذِي', 'هَذَيْنِ', 'الألى', 'الألاء', 'أل', 'أنّى', 'أيّ', 'ّأيّان', 'أنّى', 'أيّ', 'ّأيّان', 'ذيت', 'كأيّ', 'كأيّن', 'بضع', 'فلان', 'وا', 'آمينَ', 'آهِ', 'آهٍ', 'آهاً', 'أُفٍّ', 'أُفٍّ', 'أفٍّ', 'أمامك', 'أمامكَ', 'أوّهْ', 'إلَيْكَ', 'إلَيْكَ', 'إليكَ', 'إليكنّ', 'إيهٍ', 'بخٍ', 'بسّ', 'بَسْ', 'بطآن', 'بَلْهَ', 'حاي', 'حَذارِ', 'حيَّ', 'حيَّ', 'دونك', 'رويدك', 'سرعان', 'شتانَ', 'شَتَّانَ', 'صهْ', 'صهٍ', 'طاق', 'طَق', 'عَدَسْ', 'كِخ', 'مكانَك', 'مكانَك', 'مكانَك', 'مكانكم', 'مكانكما', 'مكانكنّ', 'نَخْ', 'هاكَ', 'هَجْ', 'هلم', 'هيّا', 'هَيْهات', 'وا', 'واهاً', 'وراءَك', 'وُشْكَانَ', 'وَيْ', 'يفعلان', 'تفعلان', 'يفعلون', 'تفعلون', 'تفعلين', 'اتخذ', 'ألفى', 'تخذ', 'ترك', 'تعلَّم', 'جعل', 'حجا', 'حبيب', 'خال', 'حسب', 'خال', 'درى', 'رأى', 'زعم', 'صبر', 'ظنَّ', 'عدَّ', 'علم', 'غادر', 'ذهب', 'وجد', 'ورد', 'وهب', 'أسكن', 'أطعم', 'أعطى', 'رزق', 'زود', 'سقى', 'كسا', 'أخبر', 'أرى', 'أعلم', 'أنبأ', 'حدَث', 'خبَّر', 'نبَّا', 'أفعل به', 'ما أفعله', 'بئس', 'ساء', 'طالما', 'قلما', 'لات', 'لكنَّ', 'ءَ', 'أجل', 'إذاً', 'أمّا', 'إمّا', 'إنَّ', 'أنًّ', 'أى', 'إى', 'أيا', 'ب', 'ثمَّ', 'جلل', 'جير', 'رُبَّ', 'س', 'علًّ', 'ف', 'كأنّ', 'كلَّا', 'كى', 'ل', 'لات', 'لعلَّ', 'لكنَّ', 'لكنَّ', 'م', 'نَّ', 'هلّا', 'وا', 'أل', 'إلّا', 'ت', 'ك', 'لمّا', 'ن', 'ه', 'و', 'ا', 'ي', 'تجاه', 'تلقاء', 'جميع', 'حسب', 'سبحان', 'شبه', 'لعمر', 'مثل', 'معاذ', 'أبو', 'أخو', 'حمو', 'فو', 'مئة', 'مئتان', 'ثلاثمئة', 'أربعمئة', 'خمسمئة', 'ستمئة', 'سبعمئة', 'ثمنمئة', 'تسعمئة', 'مائة', 'ثلاثمائة', 'أربعمائة', 'خمسمائة', 'ستمائة', 'سبعمائة', 'ثمانمئة', 'تسعمائة', 'عشرون', 'ثلاثون', 'اربعون', 'خمسون', 'ستون', 'سبعون', 'ثمانون', 'تسعون', 'عشرين', 'ثلاثين', 'اربعين', 'خمسين', 'ستين', 'سبعين', 'ثمانين', 'تسعين', 'بضع', 'نيف', 'أجمع', 'جميع', 'عامة', 'عين', 'نفس', 'لا سيما', 'أصلا', 'أهلا', 'أيضا', 'بؤسا', 'بعدا', 'بغتة', 'تعسا', 'حقا', 'حمدا', 'خلافا', 'خاصة', 'دواليك', 'سحقا', 'سرا', 'سمعا', 'صبرا', 'صدقا', 'صراحة', 'طرا', 'عجبا', 'عيانا', 'غالبا', 'فرادى', 'فضلا', 'قاطبة', 'كثيرا', 'لبيك', 'معاذ', 'أبدا', 'إزاء', 'أصلا', 'الآن', 'أمد', 'أمس', 'آنفا', 'آناء', 'أنّى', 'أول', 'أيّان', 'تارة', 'ثمّ', 'ثمّة', 'حقا', 'صباح', 'مساء', 'ضحوة', 'عوض', 'غدا', 'غداة', 'قطّ', 'كلّما', 'لدن', 'لمّا', 'مرّة', 'قبل', 'خلف', 'أمام', 'فوق', 'تحت', 'يمين', 'شمال', 'ارتدّ', 'استحال', 'أصبح', 'أضحى', 'آض', 'أمسى', 'انقلب', 'بات', 'تبدّل', 'تحوّل', 'حار', 'رجع', 'راح', 'صار', 'ظلّ', 'عاد', 'غدا', 'كان', 'ما انفك', 'ما برح', 'مادام', 'مازال', 'مافتئ', 'ابتدأ', 'أخذ', 'اخلولق', 'أقبل', 'انبرى', 'أنشأ', 'أوشك', 'جعل', 'حرى', 'شرع', 'طفق', 'علق', 'قام', 'كرب', 'كاد', 'هبّ']\n"
     ]
    }
   ],
   "source": [
    "print(arabic)"
   ]
  },
  {
   "cell_type": "code",
   "execution_count": 55,
   "id": "da0b6b56",
   "metadata": {},
   "outputs": [],
   "source": [
    "df['tweet_without_stopwords'] = df['tweet'].apply(lambda x: ' '.join([word for word in x.split() if word not in (arabic)]))"
   ]
  },
  {
   "cell_type": "markdown",
   "id": "b48a99bd",
   "metadata": {},
   "source": [
    "### adding tweets column  without the stop words "
   ]
  },
  {
   "cell_type": "code",
   "execution_count": 56,
   "id": "0178264d",
   "metadata": {},
   "outputs": [
    {
     "data": {
      "text/html": [
       "<div>\n",
       "<style scoped>\n",
       "    .dataframe tbody tr th:only-of-type {\n",
       "        vertical-align: middle;\n",
       "    }\n",
       "\n",
       "    .dataframe tbody tr th {\n",
       "        vertical-align: top;\n",
       "    }\n",
       "\n",
       "    .dataframe thead th {\n",
       "        text-align: right;\n",
       "    }\n",
       "</style>\n",
       "<table border=\"1\" class=\"dataframe\">\n",
       "  <thead>\n",
       "    <tr style=\"text-align: right;\">\n",
       "      <th></th>\n",
       "      <th>state</th>\n",
       "      <th>tweet</th>\n",
       "      <th>tweet_without_stopwords</th>\n",
       "    </tr>\n",
       "  </thead>\n",
       "  <tbody>\n",
       "    <tr>\n",
       "      <th>0</th>\n",
       "      <td>neg</td>\n",
       "      <td>اعترف ان بتس كانو شوي شوي يجيبو راسي لكن اليوم...</td>\n",
       "      <td>اعترف ان بتس كانو شوي شوي يجيبو راسي اليوم بال...</td>\n",
       "    </tr>\n",
       "    <tr>\n",
       "      <th>1</th>\n",
       "      <td>neg</td>\n",
       "      <td>توقعت اذا جات داريا بشوفهم كاملين بس لي للحين ...</td>\n",
       "      <td>توقعت اذا جات داريا بشوفهم كاملين للحين احس اح...</td>\n",
       "    </tr>\n",
       "    <tr>\n",
       "      <th>2</th>\n",
       "      <td>neg</td>\n",
       "      <td>الاهلي_الهلال اكتب توقعك لنتيجة لقاء الهلال وا...</td>\n",
       "      <td>الاهلي_الهلال اكتب توقعك لنتيجة لقاء الهلال وا...</td>\n",
       "    </tr>\n",
       "    <tr>\n",
       "      <th>3</th>\n",
       "      <td>neg</td>\n",
       "      <td>نعمة المضادات الحيوية . تضع قطرةمضاد بنسلين عل...</td>\n",
       "      <td>نعمة المضادات الحيوية . تضع قطرةمضاد بنسلين بك...</td>\n",
       "    </tr>\n",
       "    <tr>\n",
       "      <th>4</th>\n",
       "      <td>neg</td>\n",
       "      <td>الدودو جايه تكمل علي</td>\n",
       "      <td>الدودو جايه تكمل علي</td>\n",
       "    </tr>\n",
       "  </tbody>\n",
       "</table>\n",
       "</div>"
      ],
      "text/plain": [
       "  state                                              tweet  \\\n",
       "0   neg  اعترف ان بتس كانو شوي شوي يجيبو راسي لكن اليوم...   \n",
       "1   neg  توقعت اذا جات داريا بشوفهم كاملين بس لي للحين ...   \n",
       "2   neg  الاهلي_الهلال اكتب توقعك لنتيجة لقاء الهلال وا...   \n",
       "3   neg  نعمة المضادات الحيوية . تضع قطرةمضاد بنسلين عل...   \n",
       "4   neg                              الدودو جايه تكمل علي    \n",
       "\n",
       "                             tweet_without_stopwords  \n",
       "0  اعترف ان بتس كانو شوي شوي يجيبو راسي اليوم بال...  \n",
       "1  توقعت اذا جات داريا بشوفهم كاملين للحين احس اح...  \n",
       "2  الاهلي_الهلال اكتب توقعك لنتيجة لقاء الهلال وا...  \n",
       "3  نعمة المضادات الحيوية . تضع قطرةمضاد بنسلين بك...  \n",
       "4                               الدودو جايه تكمل علي  "
      ]
     },
     "execution_count": 56,
     "metadata": {},
     "output_type": "execute_result"
    }
   ],
   "source": [
    "df.head()"
   ]
  },
  {
   "cell_type": "markdown",
   "id": "505fd1ae",
   "metadata": {},
   "source": [
    "### removing the tweet column that contain stop word for accurate analysis"
   ]
  },
  {
   "cell_type": "code",
   "execution_count": 57,
   "id": "917ec5f9",
   "metadata": {},
   "outputs": [],
   "source": [
    "df.drop('tweet',axis=1,inplace=True)"
   ]
  },
  {
   "cell_type": "code",
   "execution_count": 58,
   "id": "3b607fef",
   "metadata": {},
   "outputs": [
    {
     "data": {
      "text/html": [
       "<div>\n",
       "<style scoped>\n",
       "    .dataframe tbody tr th:only-of-type {\n",
       "        vertical-align: middle;\n",
       "    }\n",
       "\n",
       "    .dataframe tbody tr th {\n",
       "        vertical-align: top;\n",
       "    }\n",
       "\n",
       "    .dataframe thead th {\n",
       "        text-align: right;\n",
       "    }\n",
       "</style>\n",
       "<table border=\"1\" class=\"dataframe\">\n",
       "  <thead>\n",
       "    <tr style=\"text-align: right;\">\n",
       "      <th></th>\n",
       "      <th>state</th>\n",
       "      <th>tweet_without_stopwords</th>\n",
       "    </tr>\n",
       "  </thead>\n",
       "  <tbody>\n",
       "    <tr>\n",
       "      <th>0</th>\n",
       "      <td>neg</td>\n",
       "      <td>اعترف ان بتس كانو شوي شوي يجيبو راسي اليوم بال...</td>\n",
       "    </tr>\n",
       "    <tr>\n",
       "      <th>1</th>\n",
       "      <td>neg</td>\n",
       "      <td>توقعت اذا جات داريا بشوفهم كاملين للحين احس اح...</td>\n",
       "    </tr>\n",
       "    <tr>\n",
       "      <th>2</th>\n",
       "      <td>neg</td>\n",
       "      <td>الاهلي_الهلال اكتب توقعك لنتيجة لقاء الهلال وا...</td>\n",
       "    </tr>\n",
       "    <tr>\n",
       "      <th>3</th>\n",
       "      <td>neg</td>\n",
       "      <td>نعمة المضادات الحيوية . تضع قطرةمضاد بنسلين بك...</td>\n",
       "    </tr>\n",
       "    <tr>\n",
       "      <th>4</th>\n",
       "      <td>neg</td>\n",
       "      <td>الدودو جايه تكمل علي</td>\n",
       "    </tr>\n",
       "    <tr>\n",
       "      <th>...</th>\n",
       "      <td>...</td>\n",
       "      <td>...</td>\n",
       "    </tr>\n",
       "    <tr>\n",
       "      <th>22748</th>\n",
       "      <td>pos</td>\n",
       "      <td>دايما شغلهم بأماكن حقيقية ومافيه فوتوشوب حطوا ...</td>\n",
       "    </tr>\n",
       "    <tr>\n",
       "      <th>22750</th>\n",
       "      <td>pos</td>\n",
       "      <td>ستفرج بطريقة يعجز عقلك إستيعابها، بإذن الله</td>\n",
       "    </tr>\n",
       "    <tr>\n",
       "      <th>22752</th>\n",
       "      <td>pos</td>\n",
       "      <td>العميد مراح نقول عنه شي المساكين الي متحمسين ل...</td>\n",
       "    </tr>\n",
       "    <tr>\n",
       "      <th>22753</th>\n",
       "      <td>pos</td>\n",
       "      <td>- سبيل إعادة التدوير أدوات_تعزز_الإستدامة</td>\n",
       "    </tr>\n",
       "    <tr>\n",
       "      <th>22758</th>\n",
       "      <td>pos</td>\n",
       "      <td>كلاام جمييل تستاهل(من احبه الله محبته قلوب البشر)</td>\n",
       "    </tr>\n",
       "  </tbody>\n",
       "</table>\n",
       "<p>29554 rows × 2 columns</p>\n",
       "</div>"
      ],
      "text/plain": [
       "      state                            tweet_without_stopwords\n",
       "0       neg  اعترف ان بتس كانو شوي شوي يجيبو راسي اليوم بال...\n",
       "1       neg  توقعت اذا جات داريا بشوفهم كاملين للحين احس اح...\n",
       "2       neg  الاهلي_الهلال اكتب توقعك لنتيجة لقاء الهلال وا...\n",
       "3       neg  نعمة المضادات الحيوية . تضع قطرةمضاد بنسلين بك...\n",
       "4       neg                               الدودو جايه تكمل علي\n",
       "...     ...                                                ...\n",
       "22748   pos  دايما شغلهم بأماكن حقيقية ومافيه فوتوشوب حطوا ...\n",
       "22750   pos        ستفرج بطريقة يعجز عقلك إستيعابها، بإذن الله\n",
       "22752   pos  العميد مراح نقول عنه شي المساكين الي متحمسين ل...\n",
       "22753   pos          - سبيل إعادة التدوير أدوات_تعزز_الإستدامة\n",
       "22758   pos  كلاام جمييل تستاهل(من احبه الله محبته قلوب البشر)\n",
       "\n",
       "[29554 rows x 2 columns]"
      ]
     },
     "execution_count": 58,
     "metadata": {},
     "output_type": "execute_result"
    }
   ],
   "source": [
    "df"
   ]
  },
  {
   "cell_type": "markdown",
   "id": "8642fad9",
   "metadata": {},
   "source": [
    "### shuffle the (pos&neg)tweets to make accurate model "
   ]
  },
  {
   "cell_type": "code",
   "execution_count": 59,
   "id": "e2c1cf8f",
   "metadata": {},
   "outputs": [],
   "source": [
    "from sklearn.utils import shuffle\n",
    "df = shuffle(df)"
   ]
  },
  {
   "cell_type": "code",
   "execution_count": 60,
   "id": "2ec103e2",
   "metadata": {},
   "outputs": [
    {
     "data": {
      "text/html": [
       "<div>\n",
       "<style scoped>\n",
       "    .dataframe tbody tr th:only-of-type {\n",
       "        vertical-align: middle;\n",
       "    }\n",
       "\n",
       "    .dataframe tbody tr th {\n",
       "        vertical-align: top;\n",
       "    }\n",
       "\n",
       "    .dataframe thead th {\n",
       "        text-align: right;\n",
       "    }\n",
       "</style>\n",
       "<table border=\"1\" class=\"dataframe\">\n",
       "  <thead>\n",
       "    <tr style=\"text-align: right;\">\n",
       "      <th></th>\n",
       "      <th>state</th>\n",
       "      <th>tweet_without_stopwords</th>\n",
       "    </tr>\n",
       "  </thead>\n",
       "  <tbody>\n",
       "    <tr>\n",
       "      <th>21617</th>\n",
       "      <td>pos</td>\n",
       "      <td>لأنك قطعة الجسد والروح شيء يكتمل بدايه الع( )د...</td>\n",
       "    </tr>\n",
       "    <tr>\n",
       "      <th>13386</th>\n",
       "      <td>neg</td>\n",
       "      <td>السهل تضع يدك فمك تتكلم الصعب ان تضع يدك قلبك ...</td>\n",
       "    </tr>\n",
       "    <tr>\n",
       "      <th>21701</th>\n",
       "      <td>neg</td>\n",
       "      <td>انته لازم تتعاقب عشان توب تصور تراه يجوز تشتري...</td>\n",
       "    </tr>\n",
       "    <tr>\n",
       "      <th>8762</th>\n",
       "      <td>neg</td>\n",
       "      <td>سمحت تصور بيتنا مره ثانيه اعرفك</td>\n",
       "    </tr>\n",
       "    <tr>\n",
       "      <th>1900</th>\n",
       "      <td>pos</td>\n",
       "      <td>ابومتعب ياجعل يفدونك قصيرين المبادي والأعمار •༻༺</td>\n",
       "    </tr>\n",
       "    <tr>\n",
       "      <th>...</th>\n",
       "      <td>...</td>\n",
       "      <td>...</td>\n",
       "    </tr>\n",
       "    <tr>\n",
       "      <th>14781</th>\n",
       "      <td>pos</td>\n",
       "      <td>أمطري سحابه خيرك يعود ساقك الله رحمه عساها تدوم</td>\n",
       "    </tr>\n",
       "    <tr>\n",
       "      <th>6997</th>\n",
       "      <td>neg</td>\n",
       "      <td>الشيخ دا خلاني اعييط اعتصام_القيادة_العامة</td>\n",
       "    </tr>\n",
       "    <tr>\n",
       "      <th>9790</th>\n",
       "      <td>pos</td>\n",
       "      <td>مستمتعة بأداء بلاكبينك الاسطوريي جيني اكثر وحد...</td>\n",
       "    </tr>\n",
       "    <tr>\n",
       "      <th>11043</th>\n",
       "      <td>neg</td>\n",
       "      <td>جامع رقيب</td>\n",
       "    </tr>\n",
       "    <tr>\n",
       "      <th>11230</th>\n",
       "      <td>pos</td>\n",
       "      <td>استودع الله أمري كله ، دقه وجله الرجاء وعليه ا...</td>\n",
       "    </tr>\n",
       "  </tbody>\n",
       "</table>\n",
       "<p>29554 rows × 2 columns</p>\n",
       "</div>"
      ],
      "text/plain": [
       "      state                            tweet_without_stopwords\n",
       "21617   pos  لأنك قطعة الجسد والروح شيء يكتمل بدايه الع( )د...\n",
       "13386   neg  السهل تضع يدك فمك تتكلم الصعب ان تضع يدك قلبك ...\n",
       "21701   neg  انته لازم تتعاقب عشان توب تصور تراه يجوز تشتري...\n",
       "8762    neg                    سمحت تصور بيتنا مره ثانيه اعرفك\n",
       "1900    pos   ابومتعب ياجعل يفدونك قصيرين المبادي والأعمار •༻༺\n",
       "...     ...                                                ...\n",
       "14781   pos    أمطري سحابه خيرك يعود ساقك الله رحمه عساها تدوم\n",
       "6997    neg         الشيخ دا خلاني اعييط اعتصام_القيادة_العامة\n",
       "9790    pos  مستمتعة بأداء بلاكبينك الاسطوريي جيني اكثر وحد...\n",
       "11043   neg                                          جامع رقيب\n",
       "11230   pos  استودع الله أمري كله ، دقه وجله الرجاء وعليه ا...\n",
       "\n",
       "[29554 rows x 2 columns]"
      ]
     },
     "execution_count": 60,
     "metadata": {},
     "output_type": "execute_result"
    }
   ],
   "source": [
    "df"
   ]
  },
  {
   "cell_type": "markdown",
   "id": "a10d435c",
   "metadata": {},
   "source": [
    "### sentiment analysis"
   ]
  },
  {
   "cell_type": "code",
   "execution_count": 61,
   "id": "804bc829",
   "metadata": {},
   "outputs": [],
   "source": [
    "df=df.copy()\n",
    "def getSubjectivity(text):\n",
    "     return TextBlob(text).sentiment.subjectivity\n",
    "    \n",
    "def getPolarity(text):\n",
    "    return TextBlob(text).sentiment.polarity\n",
    "\n",
    "\n",
    "df[\"sujectivity\"]=df[\"tweet_without_stopwords\"].apply(getSubjectivity)\n",
    "df[\"polarity\"]=df[\"tweet_without_stopwords\"].apply(getPolarity)"
   ]
  },
  {
   "cell_type": "markdown",
   "id": "a8c00dc1",
   "metadata": {},
   "source": [
    "### return the status of each tweet(pos/neg/neutral)and subjectivity value"
   ]
  },
  {
   "cell_type": "code",
   "execution_count": 63,
   "id": "6b76dd1b",
   "metadata": {},
   "outputs": [],
   "source": [
    "def getSentimentAnalysis(score):\n",
    "    if score < 0 :\n",
    "        return 'Negative'\n",
    "    elif score == 0:\n",
    "            return 'Neutral'\n",
    "    else:\n",
    "        return 'Positive'\n",
    "    \n",
    "df[\"Analysis\"] = df[\"polarity\"].apply(getSentimentAnalysis)\n",
    "     "
   ]
  },
  {
   "cell_type": "code",
   "execution_count": 68,
   "id": "25e73e19",
   "metadata": {},
   "outputs": [
    {
     "data": {
      "text/html": [
       "<div>\n",
       "<style scoped>\n",
       "    .dataframe tbody tr th:only-of-type {\n",
       "        vertical-align: middle;\n",
       "    }\n",
       "\n",
       "    .dataframe tbody tr th {\n",
       "        vertical-align: top;\n",
       "    }\n",
       "\n",
       "    .dataframe thead th {\n",
       "        text-align: right;\n",
       "    }\n",
       "</style>\n",
       "<table border=\"1\" class=\"dataframe\">\n",
       "  <thead>\n",
       "    <tr style=\"text-align: right;\">\n",
       "      <th></th>\n",
       "      <th>state</th>\n",
       "      <th>tweet_without_stopwords</th>\n",
       "      <th>sujectivity</th>\n",
       "      <th>polarity</th>\n",
       "      <th>Analysis</th>\n",
       "    </tr>\n",
       "  </thead>\n",
       "  <tbody>\n",
       "    <tr>\n",
       "      <th>21617</th>\n",
       "      <td>pos</td>\n",
       "      <td>لأنك قطعة الجسد والروح شيء يكتمل بدايه الع( )د...</td>\n",
       "      <td>0.0</td>\n",
       "      <td>0.0</td>\n",
       "      <td>Neutral</td>\n",
       "    </tr>\n",
       "    <tr>\n",
       "      <th>13386</th>\n",
       "      <td>neg</td>\n",
       "      <td>السهل تضع يدك فمك تتكلم الصعب ان تضع يدك قلبك ...</td>\n",
       "      <td>0.0</td>\n",
       "      <td>0.0</td>\n",
       "      <td>Neutral</td>\n",
       "    </tr>\n",
       "    <tr>\n",
       "      <th>21701</th>\n",
       "      <td>neg</td>\n",
       "      <td>انته لازم تتعاقب عشان توب تصور تراه يجوز تشتري...</td>\n",
       "      <td>0.0</td>\n",
       "      <td>0.0</td>\n",
       "      <td>Neutral</td>\n",
       "    </tr>\n",
       "    <tr>\n",
       "      <th>8762</th>\n",
       "      <td>neg</td>\n",
       "      <td>سمحت تصور بيتنا مره ثانيه اعرفك</td>\n",
       "      <td>0.0</td>\n",
       "      <td>0.0</td>\n",
       "      <td>Neutral</td>\n",
       "    </tr>\n",
       "    <tr>\n",
       "      <th>1900</th>\n",
       "      <td>pos</td>\n",
       "      <td>ابومتعب ياجعل يفدونك قصيرين المبادي والأعمار •༻༺</td>\n",
       "      <td>0.0</td>\n",
       "      <td>0.0</td>\n",
       "      <td>Neutral</td>\n",
       "    </tr>\n",
       "  </tbody>\n",
       "</table>\n",
       "</div>"
      ],
      "text/plain": [
       "      state                            tweet_without_stopwords  sujectivity  \\\n",
       "21617   pos  لأنك قطعة الجسد والروح شيء يكتمل بدايه الع( )د...          0.0   \n",
       "13386   neg  السهل تضع يدك فمك تتكلم الصعب ان تضع يدك قلبك ...          0.0   \n",
       "21701   neg  انته لازم تتعاقب عشان توب تصور تراه يجوز تشتري...          0.0   \n",
       "8762    neg                    سمحت تصور بيتنا مره ثانيه اعرفك          0.0   \n",
       "1900    pos   ابومتعب ياجعل يفدونك قصيرين المبادي والأعمار •༻༺          0.0   \n",
       "\n",
       "       polarity Analysis  \n",
       "21617       0.0  Neutral  \n",
       "13386       0.0  Neutral  \n",
       "21701       0.0  Neutral  \n",
       "8762        0.0  Neutral  \n",
       "1900        0.0  Neutral  "
      ]
     },
     "execution_count": 68,
     "metadata": {},
     "output_type": "execute_result"
    }
   ],
   "source": [
    "df.head(50)"
   ]
  },
  {
   "cell_type": "markdown",
   "id": "738c2f32",
   "metadata": {},
   "source": [
    "### plotting graphical representation for the result of sentiment analysis"
   ]
  },
  {
   "cell_type": "code",
   "execution_count": 69,
   "id": "c48ea7bc",
   "metadata": {},
   "outputs": [
    {
     "data": {
      "text/plain": [
       "<seaborn.axisgrid.FacetGrid at 0x1f74a0ff400>"
      ]
     },
     "execution_count": 69,
     "metadata": {},
     "output_type": "execute_result"
    },
    {
     "data": {
      "image/png": "[encoded data removed]",
      "text/plain": [
       "<Figure size 360x360 with 1 Axes>"
      ]
     },
     "metadata": {
      "needs_background": "light"
     },
     "output_type": "display_data"
    }
   ],
   "source": [
    "sns.displot(df['Analysis'])"
   ]
  },
  {
   "cell_type": "code",
   "execution_count": 70,
   "id": "ba35001d",
   "metadata": {},
   "outputs": [
    {
     "name": "stdout",
     "output_type": "stream",
     "text": [
      "10783    تعبت وانا اعيده يتعبب موت اف الموتشي :'(\n",
      "Name: tweet_without_stopwords, dtype: object\n"
     ]
    }
   ],
   "source": [
    "most_negative=df[df.polarity==-1].tweet_without_stopwords.head()\n",
    "print(most_negative)"
   ]
  },
  {
   "cell_type": "code",
   "execution_count": 71,
   "id": "8bc6a119",
   "metadata": {},
   "outputs": [
    {
     "name": "stdout",
     "output_type": "stream",
     "text": [
      "6959                 ده كلام كبير ، بيتقال لرجاله صغيرة :D\n",
      "20873                             بقت نواقض الرجولة ايه :D\n",
      "6397                           ياسطى محتاج تدعيمات قولي :D\n",
      "6548                             مش هنعمم اروي عيب يعني :D\n",
      "6001     مين احلى انا احلى شوية طبعا بنات روسيا جامدين ...\n",
      "Name: tweet_without_stopwords, dtype: object\n"
     ]
    }
   ],
   "source": [
    "most_positive=df[df.polarity==1].tweet_without_stopwords.tail()\n",
    "print(most_positive)"
   ]
  },
  {
   "cell_type": "markdown",
   "id": "32f8166e",
   "metadata": {},
   "source": [
    "### Convert Textual data to feature vectors"
   ]
  },
  {
   "cell_type": "code",
   "execution_count": 74,
   "id": "65b11265",
   "metadata": {},
   "outputs": [],
   "source": [
    "x=df['tweet_without_stopwords'].values"
   ]
  },
  {
   "cell_type": "code",
   "execution_count": 75,
   "id": "6bb72062",
   "metadata": {},
   "outputs": [],
   "source": [
    "vectorizer = TfidfVectorizer(max_features=100,\n",
    "                              max_df=0.8,\n",
    "                              min_df=5,\n",
    "                             ngram_range=(1,3))\n",
    "\n",
    "vectors=vectorizer.fit_transform(x)"
   ]
  },
  {
   "cell_type": "code",
   "execution_count": 76,
   "id": "4dda409d",
   "metadata": {},
   "outputs": [
    {
     "name": "stdout",
     "output_type": "stream",
     "text": [
      "  (0, 61)\t1.0\n",
      "  (1, 74)\t0.7956462526579393\n",
      "  (1, 30)\t0.6057615377616662\n",
      "  (2, 65)\t1.0\n",
      "  (3, 83)\t1.0\n",
      "  (5, 17)\t0.6949741767483932\n",
      "  (5, 20)\t0.7190346957226008\n",
      "  (6, 69)\t1.0\n",
      "  (7, 47)\t0.6957772763201486\n",
      "  (7, 95)\t0.2665342963616733\n",
      "  (7, 24)\t0.30140536294164666\n",
      "  (7, 54)\t0.3470027409806319\n",
      "  (7, 44)\t0.32923446515862476\n",
      "  (7, 50)\t0.3538389782276122\n",
      "  (8, 9)\t1.0\n",
      "  (10, 90)\t1.0\n",
      "  (13, 42)\t0.5684939054676745\n",
      "  (13, 49)\t0.4838498372882262\n",
      "  (13, 16)\t0.5444891613400638\n",
      "  (13, 21)\t0.3824075935248435\n",
      "  (16, 30)\t1.0\n",
      "  (18, 53)\t0.5822179685679083\n",
      "  (18, 84)\t0.5219286343277778\n",
      "  (18, 54)\t0.6233881116490744\n",
      "  (20, 92)\t0.8306006264882847\n",
      "  :\t:\n",
      "  (29538, 29)\t0.4678599382826648\n",
      "  (29539, 11)\t0.5999393600184382\n",
      "  (29539, 10)\t0.5800424122159992\n",
      "  (29539, 53)\t0.5510204754193002\n",
      "  (29541, 11)\t0.31333079179243983\n",
      "  (29541, 82)\t0.2990898379507627\n",
      "  (29541, 41)\t0.2881330058503717\n",
      "  (29541, 21)\t0.21276135089278111\n",
      "  (29541, 20)\t0.8270919309576281\n",
      "  (29543, 44)\t1.0\n",
      "  (29544, 98)\t0.6839015137489695\n",
      "  (29544, 39)\t0.6293849287278592\n",
      "  (29544, 20)\t0.3689896082304969\n",
      "  (29546, 88)\t0.608836818085386\n",
      "  (29546, 66)\t0.5514710537015018\n",
      "  (29546, 55)\t0.5702608226706598\n",
      "  (29547, 14)\t1.0\n",
      "  (29548, 30)\t1.0\n",
      "  (29549, 20)\t1.0\n",
      "  (29550, 50)\t1.0\n",
      "  (29551, 5)\t1.0\n",
      "  (29553, 2)\t0.6643346481479981\n",
      "  (29553, 21)\t0.44337059157182146\n",
      "  (29553, 95)\t0.4932086761511927\n",
      "  (29553, 20)\t0.3447132077082576\n"
     ]
    }
   ],
   "source": [
    "print(vectors)"
   ]
  },
  {
   "cell_type": "code",
   "execution_count": 77,
   "id": "bd7d5f98",
   "metadata": {},
   "outputs": [],
   "source": [
    "feature_names = vectorizer.get_feature_names()"
   ]
  },
  {
   "cell_type": "code",
   "execution_count": 78,
   "id": "f2710c6d",
   "metadata": {},
   "outputs": [
    {
     "name": "stdout",
     "output_type": "stream",
     "text": [
      "['neg', 'pos', 'إني', 'احد', 'اذا', 'اكثر', 'ال', 'الا', 'الاتحاد', 'الحب', 'الحمد', 'الحمدلله', 'الحياة', 'الحين', 'الخير', 'الدنيا', 'الصباح', 'العظيم', 'الف', 'القلب', 'الله', 'اللهم', 'اللي', 'المطر', 'الناس', 'النصر', 'الهلال', 'الى', 'الي', 'اليوم', 'ان', 'انا', 'انت', 'انتي', 'انك', 'انه', 'اني', 'او', 'اول', 'اي', 'ايه', 'بالله', 'بكل', 'تكون', 'جدا', 'جميل', 'حب', 'حد', 'حلو', 'خير', 'دا', 'ده', 'دي', 'رب', 'ربنا', 'ربي', 'زي', 'شاء', 'شاء الله', 'شخص', 'شي', 'شيء', 'صباحك', 'صح', 'طيب', 'عشان', 'علي', 'علينا', 'عندما', 'عندي', 'فقط', 'فيك', 'قال', 'قلب', 'قلبك', 'قلبي', 'كانت', 'كنت', 'لكل', 'لله', 'ليش', 'ليه', 'محمد', 'مره', 'مش', 'منك', 'مو', 'ناس', 'نفسي', 'هه', 'والله', 'وانا', 'وانت', 'وش', 'وين', 'يارب', 'يعني', 'يقول', 'يكون', 'يوم']\n"
     ]
    }
   ],
   "source": [
    "print(feature_names)"
   ]
  },
  {
   "cell_type": "markdown",
   "id": "6a76439d",
   "metadata": {},
   "source": [
    "### cross validation using (k-fold)"
   ]
  },
  {
   "cell_type": "code",
   "execution_count": 80,
   "id": "3077bc7a",
   "metadata": {},
   "outputs": [
    {
     "name": "stdout",
     "output_type": "stream",
     "text": [
      "Fold 1\n",
      "train data:  [    0     1     2 ... 29551 29552 29553] \n",
      "\n",
      " test data : [    8    20    32 ... 29523 29538 29544]\n",
      "Fold 2\n",
      "train data:  [    0     2     3 ... 29551 29552 29553] \n",
      "\n",
      " test data : [    1     4    28 ... 29506 29508 29531]\n",
      "Fold 3\n",
      "train data:  [    0     1     2 ... 29551 29552 29553] \n",
      "\n",
      " test data : [   11    23    36 ... 29528 29536 29540]\n",
      "Fold 4\n",
      "train data:  [    0     1     2 ... 29551 29552 29553] \n",
      "\n",
      " test data : [   57    62   102 ... 29452 29462 29507]\n",
      "Fold 5\n",
      "train data:  [    0     1     2 ... 29551 29552 29553] \n",
      "\n",
      " test data : [   38    65    71 ... 29501 29514 29534]\n",
      "Fold 6\n",
      "train data:  [    1     3     4 ... 29550 29552 29553] \n",
      "\n",
      " test data : [    0     2    14 ... 29524 29542 29551]\n",
      "Fold 7\n",
      "train data:  [    0     1     2 ... 29551 29552 29553] \n",
      "\n",
      " test data : [   19    31    70 ... 29505 29530 29549]\n",
      "Fold 8\n",
      "train data:  [    0     1     2 ... 29551 29552 29553] \n",
      "\n",
      " test data : [   10    18    24 ... 29434 29527 29535]\n",
      "Fold 9\n",
      "train data:  [    0     1     2 ... 29549 29551 29553] \n",
      "\n",
      " test data : [   44    93    97 ... 29541 29550 29552]\n",
      "Fold 10\n",
      "train data:  [    0     1     2 ... 29551 29552 29553] \n",
      "\n",
      " test data : [   30    40    45 ... 29490 29517 29533]\n",
      "Fold 11\n",
      "train data:  [    0     1     2 ... 29551 29552 29553] \n",
      "\n",
      " test data : [   61    81   158 ... 29474 29491 29502]\n",
      "Fold 12\n",
      "train data:  [    0     1     2 ... 29551 29552 29553] \n",
      "\n",
      " test data : [   74   134   156 ... 29515 29543 29545]\n",
      "Fold 13\n",
      "train data:  [    0     1     2 ... 29551 29552 29553] \n",
      "\n",
      " test data : [   42    52    60 ... 29483 29495 29525]\n",
      "Fold 14\n",
      "train data:  [    0     1     2 ... 29551 29552 29553] \n",
      "\n",
      " test data : [    5    16    25 ... 29496 29522 29532]\n",
      "Fold 15\n",
      "train data:  [    0     1     2 ... 29550 29551 29552] \n",
      "\n",
      " test data : [   13    29    54 ... 29498 29520 29553]\n",
      "Fold 16\n",
      "train data:  [    0     1     2 ... 29551 29552 29553] \n",
      "\n",
      " test data : [    3     7     9 ... 29499 29509 29529]\n",
      "Fold 17\n",
      "train data:  [    0     1     2 ... 29551 29552 29553] \n",
      "\n",
      " test data : [   22    67    73 ... 29512 29546 29547]\n",
      "Fold 18\n",
      "train data:  [    0     1     2 ... 29551 29552 29553] \n",
      "\n",
      " test data : [   12    39    53 ... 29519 29539 29548]\n",
      "Fold 19\n",
      "train data:  [    0     1     2 ... 29551 29552 29553] \n",
      "\n",
      " test data : [   17    46    49 ... 29489 29521 29526]\n",
      "Fold 20\n",
      "train data:  [    0     1     2 ... 29551 29552 29553] \n",
      "\n",
      " test data : [    6    15    21 ... 29479 29484 29518]\n"
     ]
    }
   ],
   "source": [
    "from sklearn.model_selection import KFold\n",
    "kf= KFold(n_splits=20 ,random_state = 22 , shuffle = True )\n",
    "i = 1\n",
    "for train_index,test_index in kf.split(df):\n",
    "    print(\"Fold\",i)\n",
    "    print (\"train data: \", train_index, \"\\n\")\n",
    "    print (\" test data :\",test_index)\n",
    "    i +=1\n",
    "  "
   ]
  },
  {
   "cell_type": "code",
   "execution_count": 81,
   "id": "258cac8d",
   "metadata": {},
   "outputs": [
    {
     "name": "stdout",
     "output_type": "stream",
     "text": [
      "accuracy= 0.6009002036641218\n",
      "F1_score= 0.5839530844398628\n"
     ]
    }
   ],
   "source": [
    "Y=df['state']\n",
    "classifier1 = LogisticRegression()\n",
    "accuracy=cross_val_score(classifier1  ,vectors,Y , cv=kf, scoring='accuracy'  , n_jobs= -1 ).mean()\n",
    "print(\"accuracy=\",accuracy)\n",
    "classifier1.fit(vectors,Y)\n",
    "y_pred= classifier1.predict(vectors)\n",
    "F_score=f1_score(Y,y_pred,average='macro')\n",
    "print(\"F1_score=\",F_score)"
   ]
  },
  {
   "cell_type": "code",
   "execution_count": null,
   "id": "fa52c691",
   "metadata": {},
   "outputs": [],
   "source": [
    "from sklearn.svm import SVC\n",
    "Y=df['state']\n",
    "svm=SVC()\n",
    "accuracy=cross_val_score(svm ,vectors,Y , cv=kf, scoring='accuracy'  , n_jobs= -1 ).mean()\n",
    "print(\"accuracy=\",accuracy)\n",
    "svm.fit(vectors,Y)\n",
    "y_pred= svm.predict(vectors)\n",
    "F_score=f1_score(Y,y_pred,average='macro')\n",
    "print(\"F1_score=\",F_score)"
   ]
  },
  {
   "cell_type": "code",
   "execution_count": null,
   "id": "c8d9f35f",
   "metadata": {},
   "outputs": [],
   "source": [
    "from sklearn.tree import DecisionTreeClassifier\n",
    "Y=df['state']\n",
    "classifier3=DecisionTreeClassifier()\n",
    "accuracy=cross_val_score(classifier3 ,vectors,Y , cv=kf, scoring='accuracy'  , n_jobs= -1 ).mean()\n",
    "print(\"accuracy=\",accuracy)\n",
    "classifier3.fit(vectors,Y)\n",
    "y_pred= classifier3.predict(vectors)\n",
    "F_score=f1_score(Y,y_pred,average='macro')\n",
    "print(\"F1_score=\",F_score)"
   ]
  },
  {
   "cell_type": "code",
   "execution_count": null,
   "id": "930ef307",
   "metadata": {},
   "outputs": [],
   "source": []
  }
 ],
 "metadata": {
  "kernelspec": {
   "display_name": "Python 3",
   "language": "python",
   "name": "python3"
  },
  "language_info": {
   "codemirror_mode": {
    "name": "ipython",
    "version": 3
   },
   "file_extension": ".py",
   "mimetype": "text/x-python",
   "name": "python",
   "nbconvert_exporter": "python",
   "pygments_lexer": "ipython3",
   "version": "3.8.8"
  }
 },
 "nbformat": 4,
 "nbformat_minor": 5
}
