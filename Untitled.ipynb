{
 "cells": [
  {
   "cell_type": "markdown",
   "id": "654c9ebe",
   "metadata": {},
   "source": [
    "### importing neccesary libiraries"
   ]
  },
  {
   "cell_type": "code",
   "execution_count": 1,
   "id": "4885e236",
   "metadata": {},
   "outputs": [],
   "source": [
    "import pandas as pd\n",
    "import numpy as np \n",
    "import re\n",
    "import pyarabic.araby as araby\n",
    "import tweepy\n",
    "import seaborn as sns\n",
    "from textblob import TextBlob\n",
    "from pyarabic.araby import strip_harakat\n",
    "from pyarabic.araby import strip_tashkeel\n",
    "from pyarabic.araby import strip_diacritics\n",
    "from pyarabic.araby import strip_tatweel, strip_shadda\n",
    "from pyarabic.araby import normalize_ligature\n",
    "from sklearn.feature_extraction.text import TfidfVectorizer\n",
    "from sklearn.linear_model import LogisticRegression \n",
    "from sklearn.model_selection import cross_val_score \n",
    "from sklearn.metrics import f1_score"
   ]
  },
  {
   "cell_type": "markdown",
   "id": "71c09a28",
   "metadata": {},
   "source": [
    "### loading data in a dataframe"
   ]
  },
  {
   "cell_type": "code",
   "execution_count": 2,
   "id": "7e5d550f",
   "metadata": {},
   "outputs": [],
   "source": [
    "labels=['state','tweet']\n",
    "\n",
    "df1=pd.read_csv('negative.tsv',sep='\\t',names=labels)\n",
    "df2=pd.read_csv(\"positive.tsv\",sep=\"\\t\",names=labels)"
   ]
  },
  {
   "cell_type": "markdown",
   "id": "5a5c7160",
   "metadata": {},
   "source": [
    "### merging the two dataframes"
   ]
  },
  {
   "cell_type": "code",
   "execution_count": 3,
   "id": "0f563343",
   "metadata": {},
   "outputs": [
    {
     "name": "stdout",
     "output_type": "stream",
     "text": [
      "<class 'pandas.core.frame.DataFrame'>\n",
      "Int64Index: 45275 entries, 0 to 22760\n",
      "Data columns (total 2 columns):\n",
      " #   Column  Non-Null Count  Dtype \n",
      "---  ------  --------------  ----- \n",
      " 0   state   45275 non-null  object\n",
      " 1   tweet   45275 non-null  object\n",
      "dtypes: object(2)\n",
      "memory usage: 1.0+ MB\n"
     ]
    }
   ],
   "source": [
    "df=df1.append(df2)\n",
    "df.info()\n"
   ]
  },
  {
   "cell_type": "markdown",
   "id": "16d9e2f1",
   "metadata": {},
   "source": [
    "### checking for the unique values to know the duplicated rows"
   ]
  },
  {
   "cell_type": "code",
   "execution_count": 4,
   "id": "c5078474",
   "metadata": {},
   "outputs": [
    {
     "data": {
      "text/plain": [
       "state        2\n",
       "tweet    29449\n",
       "dtype: int64"
      ]
     },
     "execution_count": 4,
     "metadata": {},
     "output_type": "execute_result"
    }
   ],
   "source": [
    "df.nunique()"
   ]
  },
  {
   "cell_type": "code",
   "execution_count": 5,
   "id": "d6bbf757",
   "metadata": {},
   "outputs": [
    {
     "data": {
      "text/plain": [
       "(45275, 2)"
      ]
     },
     "execution_count": 5,
     "metadata": {},
     "output_type": "execute_result"
    }
   ],
   "source": [
    "df.shape"
   ]
  },
  {
   "cell_type": "markdown",
   "id": "1e6a19e7",
   "metadata": {},
   "source": [
    "### checking for the duplicated tweets  "
   ]
  },
  {
   "cell_type": "code",
   "execution_count": 6,
   "id": "476a609a",
   "metadata": {},
   "outputs": [
    {
     "data": {
      "text/plain": [
       "15826"
      ]
     },
     "execution_count": 6,
     "metadata": {},
     "output_type": "execute_result"
    }
   ],
   "source": [
    "df.tweet.duplicated().sum()"
   ]
  },
  {
   "cell_type": "markdown",
   "id": "93e2e9aa",
   "metadata": {},
   "source": [
    "### droping the duplicated rows for accurate calculations"
   ]
  },
  {
   "cell_type": "code",
   "execution_count": 7,
   "id": "4f4892e2",
   "metadata": {},
   "outputs": [],
   "source": [
    "df.drop_duplicates(inplace=True)\n"
   ]
  },
  {
   "cell_type": "code",
   "execution_count": 8,
   "id": "744be6e5",
   "metadata": {},
   "outputs": [
    {
     "data": {
      "text/html": [
       "<div>\n",
       "<style scoped>\n",
       "    .dataframe tbody tr th:only-of-type {\n",
       "        vertical-align: middle;\n",
       "    }\n",
       "\n",
       "    .dataframe tbody tr th {\n",
       "        vertical-align: top;\n",
       "    }\n",
       "\n",
       "    .dataframe thead th {\n",
       "        text-align: right;\n",
       "    }\n",
       "</style>\n",
       "<table border=\"1\" class=\"dataframe\">\n",
       "  <thead>\n",
       "    <tr style=\"text-align: right;\">\n",
       "      <th></th>\n",
       "      <th>state</th>\n",
       "      <th>tweet</th>\n",
       "    </tr>\n",
       "  </thead>\n",
       "  <tbody>\n",
       "    <tr>\n",
       "      <th>0</th>\n",
       "      <td>neg</td>\n",
       "      <td>اعترف ان بتس كانو شوي شوي يجيبو راسي لكن اليوم...</td>\n",
       "    </tr>\n",
       "    <tr>\n",
       "      <th>1</th>\n",
       "      <td>neg</td>\n",
       "      <td>توقعت اذا جات داريا بشوفهم كاملين بس لي للحين ...</td>\n",
       "    </tr>\n",
       "    <tr>\n",
       "      <th>2</th>\n",
       "      <td>neg</td>\n",
       "      <td>#الاهلي_الهلال اكتب توقعك لنتيجة لقاء الهلال و...</td>\n",
       "    </tr>\n",
       "    <tr>\n",
       "      <th>3</th>\n",
       "      <td>neg</td>\n",
       "      <td>نعمة المضادات الحيوية . تضع قطرة💧مضاد بنسلين ع...</td>\n",
       "    </tr>\n",
       "    <tr>\n",
       "      <th>4</th>\n",
       "      <td>neg</td>\n",
       "      <td>الدودو جايه تكمل علي 💔</td>\n",
       "    </tr>\n",
       "    <tr>\n",
       "      <th>...</th>\n",
       "      <td>...</td>\n",
       "      <td>...</td>\n",
       "    </tr>\n",
       "    <tr>\n",
       "      <th>22748</th>\n",
       "      <td>pos</td>\n",
       "      <td>دايما شغلهم بأماكن حقيقية ومافيه فوتوشوب ولو ح...</td>\n",
       "    </tr>\n",
       "    <tr>\n",
       "      <th>22750</th>\n",
       "      <td>pos</td>\n",
       "      <td>ستفرج بطريقة يعجز عقلك عن إستيعابها، بإذن الله 💛</td>\n",
       "    </tr>\n",
       "    <tr>\n",
       "      <th>22752</th>\n",
       "      <td>pos</td>\n",
       "      <td>لا لا العميد مراح نقول عنه شي 🙂 بس المساكين ال...</td>\n",
       "    </tr>\n",
       "    <tr>\n",
       "      <th>22753</th>\n",
       "      <td>pos</td>\n",
       "      <td>- على سبيل إعادة التدوير 🌸 #أدوات_تعزز_الإستدا...</td>\n",
       "    </tr>\n",
       "    <tr>\n",
       "      <th>22758</th>\n",
       "      <td>pos</td>\n",
       "      <td>كلاام جمييل تستاهل(من احبه الله جعل محبته ف قل...</td>\n",
       "    </tr>\n",
       "  </tbody>\n",
       "</table>\n",
       "<p>29554 rows × 2 columns</p>\n",
       "</div>"
      ],
      "text/plain": [
       "      state                                              tweet\n",
       "0       neg  اعترف ان بتس كانو شوي شوي يجيبو راسي لكن اليوم...\n",
       "1       neg  توقعت اذا جات داريا بشوفهم كاملين بس لي للحين ...\n",
       "2       neg  #الاهلي_الهلال اكتب توقعك لنتيجة لقاء الهلال و...\n",
       "3       neg  نعمة المضادات الحيوية . تضع قطرة💧مضاد بنسلين ع...\n",
       "4       neg                             الدودو جايه تكمل علي 💔\n",
       "...     ...                                                ...\n",
       "22748   pos  دايما شغلهم بأماكن حقيقية ومافيه فوتوشوب ولو ح...\n",
       "22750   pos   ستفرج بطريقة يعجز عقلك عن إستيعابها، بإذن الله 💛\n",
       "22752   pos  لا لا العميد مراح نقول عنه شي 🙂 بس المساكين ال...\n",
       "22753   pos  - على سبيل إعادة التدوير 🌸 #أدوات_تعزز_الإستدا...\n",
       "22758   pos  كلاام جمييل تستاهل(من احبه الله جعل محبته ف قل...\n",
       "\n",
       "[29554 rows x 2 columns]"
      ]
     },
     "execution_count": 8,
     "metadata": {},
     "output_type": "execute_result"
    }
   ],
   "source": [
    "df\n"
   ]
  },
  {
   "cell_type": "markdown",
   "id": "dd5b22ed",
   "metadata": {},
   "source": [
    "### implementing remove emojis function"
   ]
  },
  {
   "cell_type": "code",
   "execution_count": 9,
   "id": "b6a3c69d",
   "metadata": {},
   "outputs": [],
   "source": [
    " def remove_emojis(data) :\n",
    "    emoj = re.compile(\"[\"\n",
    "        u\"\\U0001F600-\\U0001F64F\"  # emoticons\n",
    "        u\"\\U0001F300-\\U0001F5FF\"  # symbols & pictographs\n",
    "        u\"\\U0001F680-\\U0001F6FF\"  # transport & map symbols\n",
    "        u\"\\U0001F1E0-\\U0001F1FF\"  # flags (iOS)\n",
    "        u\"\\U00002500-\\U00002BEF\"  # chinese char\n",
    "        u\"\\U00002702-\\U000027B0\"\n",
    "        u\"\\U00002702-\\U000027B0\"\n",
    "        u\"\\U000024C2-\\U0001F251\"\n",
    "        u\"\\U0001f926-\\U0001f937\"\n",
    "        u\"\\U00010000-\\U0010ffff\"\n",
    "        u\"\\u2640-\\u2642\" \n",
    "        u\"\\u2600-\\u2B55\"\n",
    "        u\"\\u200d\"\n",
    "        u\"\\u23cf\"\n",
    "        u\"\\u23e9\"\n",
    "        u\"\\u231a\"\n",
    "        u\"\\ufe0f\"  # dingbats\n",
    "        u\"\\u3030\"\n",
    "                      \"]+\", re.UNICODE)\n",
    "    return re.sub(emoj, '', data)\n"
   ]
  },
  {
   "cell_type": "markdown",
   "id": "a453c0a4",
   "metadata": {},
   "source": [
    "### applying the remove_emojis funtion on the tweets column"
   ]
  },
  {
   "cell_type": "code",
   "execution_count": 10,
   "id": "7348015d",
   "metadata": {},
   "outputs": [],
   "source": [
    " df['tweet']=df['tweet'].apply(remove_emojis)"
   ]
  },
  {
   "cell_type": "code",
   "execution_count": 11,
   "id": "70e18b48",
   "metadata": {},
   "outputs": [
    {
     "data": {
      "text/html": [
       "<div>\n",
       "<style scoped>\n",
       "    .dataframe tbody tr th:only-of-type {\n",
       "        vertical-align: middle;\n",
       "    }\n",
       "\n",
       "    .dataframe tbody tr th {\n",
       "        vertical-align: top;\n",
       "    }\n",
       "\n",
       "    .dataframe thead th {\n",
       "        text-align: right;\n",
       "    }\n",
       "</style>\n",
       "<table border=\"1\" class=\"dataframe\">\n",
       "  <thead>\n",
       "    <tr style=\"text-align: right;\">\n",
       "      <th></th>\n",
       "      <th>state</th>\n",
       "      <th>tweet</th>\n",
       "    </tr>\n",
       "  </thead>\n",
       "  <tbody>\n",
       "    <tr>\n",
       "      <th>0</th>\n",
       "      <td>neg</td>\n",
       "      <td>اعترف ان بتس كانو شوي شوي يجيبو راسي لكن اليوم...</td>\n",
       "    </tr>\n",
       "    <tr>\n",
       "      <th>1</th>\n",
       "      <td>neg</td>\n",
       "      <td>توقعت اذا جات داريا بشوفهم كاملين بس لي للحين ...</td>\n",
       "    </tr>\n",
       "    <tr>\n",
       "      <th>2</th>\n",
       "      <td>neg</td>\n",
       "      <td>#الاهلي_الهلال اكتب توقعك لنتيجة لقاء الهلال و...</td>\n",
       "    </tr>\n",
       "    <tr>\n",
       "      <th>3</th>\n",
       "      <td>neg</td>\n",
       "      <td>نعمة المضادات الحيوية . تضع قطرةمضاد بنسلين عل...</td>\n",
       "    </tr>\n",
       "    <tr>\n",
       "      <th>4</th>\n",
       "      <td>neg</td>\n",
       "      <td>الدودو جايه تكمل علي</td>\n",
       "    </tr>\n",
       "    <tr>\n",
       "      <th>...</th>\n",
       "      <td>...</td>\n",
       "      <td>...</td>\n",
       "    </tr>\n",
       "    <tr>\n",
       "      <th>22748</th>\n",
       "      <td>pos</td>\n",
       "      <td>دايما شغلهم بأماكن حقيقية ومافيه فوتوشوب ولو ح...</td>\n",
       "    </tr>\n",
       "    <tr>\n",
       "      <th>22750</th>\n",
       "      <td>pos</td>\n",
       "      <td>ستفرج بطريقة يعجز عقلك عن إستيعابها، بإذن الله</td>\n",
       "    </tr>\n",
       "    <tr>\n",
       "      <th>22752</th>\n",
       "      <td>pos</td>\n",
       "      <td>لا لا العميد مراح نقول عنه شي  بس المساكين الي...</td>\n",
       "    </tr>\n",
       "    <tr>\n",
       "      <th>22753</th>\n",
       "      <td>pos</td>\n",
       "      <td>- على سبيل إعادة التدوير  #أدوات_تعزز_الإستدامة</td>\n",
       "    </tr>\n",
       "    <tr>\n",
       "      <th>22758</th>\n",
       "      <td>pos</td>\n",
       "      <td>كلاام جمييل تستاهل(من احبه الله جعل محبته ف قل...</td>\n",
       "    </tr>\n",
       "  </tbody>\n",
       "</table>\n",
       "<p>29554 rows × 2 columns</p>\n",
       "</div>"
      ],
      "text/plain": [
       "      state                                              tweet\n",
       "0       neg  اعترف ان بتس كانو شوي شوي يجيبو راسي لكن اليوم...\n",
       "1       neg  توقعت اذا جات داريا بشوفهم كاملين بس لي للحين ...\n",
       "2       neg  #الاهلي_الهلال اكتب توقعك لنتيجة لقاء الهلال و...\n",
       "3       neg  نعمة المضادات الحيوية . تضع قطرةمضاد بنسلين عل...\n",
       "4       neg                              الدودو جايه تكمل علي \n",
       "...     ...                                                ...\n",
       "22748   pos  دايما شغلهم بأماكن حقيقية ومافيه فوتوشوب ولو ح...\n",
       "22750   pos    ستفرج بطريقة يعجز عقلك عن إستيعابها، بإذن الله \n",
       "22752   pos  لا لا العميد مراح نقول عنه شي  بس المساكين الي...\n",
       "22753   pos   - على سبيل إعادة التدوير  #أدوات_تعزز_الإستدامة \n",
       "22758   pos  كلاام جمييل تستاهل(من احبه الله جعل محبته ف قل...\n",
       "\n",
       "[29554 rows x 2 columns]"
      ]
     },
     "execution_count": 11,
     "metadata": {},
     "output_type": "execute_result"
    }
   ],
   "source": [
    "df"
   ]
  },
  {
   "cell_type": "markdown",
   "id": "55579681",
   "metadata": {},
   "source": [
    "### applying built in functions to remove tashkel and other exxcessives of the language"
   ]
  },
  {
   "cell_type": "code",
   "execution_count": 12,
   "id": "5b91c90b",
   "metadata": {},
   "outputs": [],
   "source": [
    "df['tweet']=df['tweet'].apply(strip_harakat)"
   ]
  },
  {
   "cell_type": "code",
   "execution_count": 13,
   "id": "aa67abf5",
   "metadata": {},
   "outputs": [],
   "source": [
    "df['tweet']=df['tweet'].apply(strip_tashkeel)"
   ]
  },
  {
   "cell_type": "code",
   "execution_count": 14,
   "id": "70a2311c",
   "metadata": {},
   "outputs": [],
   "source": [
    "df['tweet']=df['tweet'].apply(araby.strip_diacritics)"
   ]
  },
  {
   "cell_type": "code",
   "execution_count": 15,
   "id": "e725c793",
   "metadata": {},
   "outputs": [],
   "source": [
    "df['tweet']=df['tweet'].apply(araby.strip_shadda)"
   ]
  },
  {
   "cell_type": "code",
   "execution_count": 16,
   "id": "b1bc12f9",
   "metadata": {},
   "outputs": [],
   "source": [
    "df['tweet']=df['tweet'].apply(araby.strip_tatweel)"
   ]
  },
  {
   "cell_type": "code",
   "execution_count": 17,
   "id": "34d7d8e2",
   "metadata": {},
   "outputs": [],
   "source": [
    "df['tweet']=df['tweet'].apply(araby.normalize_ligature)"
   ]
  },
  {
   "cell_type": "code",
   "execution_count": 18,
   "id": "7d05c524",
   "metadata": {},
   "outputs": [],
   "source": [
    "df['tweet'] = df['tweet'].replace({'\\#': '', ',': '','$':'','!':' ','؟':' '}, regex=True)"
   ]
  },
  {
   "cell_type": "markdown",
   "id": "c7653d63",
   "metadata": {},
   "source": [
    "### exploring the data after removing the unneccesaries of the tweets  "
   ]
  },
  {
   "cell_type": "code",
   "execution_count": 19,
   "id": "018bce96",
   "metadata": {},
   "outputs": [
    {
     "data": {
      "text/html": [
       "<div>\n",
       "<style scoped>\n",
       "    .dataframe tbody tr th:only-of-type {\n",
       "        vertical-align: middle;\n",
       "    }\n",
       "\n",
       "    .dataframe tbody tr th {\n",
       "        vertical-align: top;\n",
       "    }\n",
       "\n",
       "    .dataframe thead th {\n",
       "        text-align: right;\n",
       "    }\n",
       "</style>\n",
       "<table border=\"1\" class=\"dataframe\">\n",
       "  <thead>\n",
       "    <tr style=\"text-align: right;\">\n",
       "      <th></th>\n",
       "      <th>state</th>\n",
       "      <th>tweet</th>\n",
       "    </tr>\n",
       "  </thead>\n",
       "  <tbody>\n",
       "    <tr>\n",
       "      <th>0</th>\n",
       "      <td>neg</td>\n",
       "      <td>اعترف ان بتس كانو شوي شوي يجيبو راسي لكن اليوم...</td>\n",
       "    </tr>\n",
       "    <tr>\n",
       "      <th>1</th>\n",
       "      <td>neg</td>\n",
       "      <td>توقعت اذا جات داريا بشوفهم كاملين بس لي للحين ...</td>\n",
       "    </tr>\n",
       "    <tr>\n",
       "      <th>2</th>\n",
       "      <td>neg</td>\n",
       "      <td>الاهلي_الهلال اكتب توقعك لنتيجة لقاء الهلال وا...</td>\n",
       "    </tr>\n",
       "    <tr>\n",
       "      <th>3</th>\n",
       "      <td>neg</td>\n",
       "      <td>نعمة المضادات الحيوية . تضع قطرةمضاد بنسلين عل...</td>\n",
       "    </tr>\n",
       "    <tr>\n",
       "      <th>4</th>\n",
       "      <td>neg</td>\n",
       "      <td>الدودو جايه تكمل علي</td>\n",
       "    </tr>\n",
       "    <tr>\n",
       "      <th>...</th>\n",
       "      <td>...</td>\n",
       "      <td>...</td>\n",
       "    </tr>\n",
       "    <tr>\n",
       "      <th>22748</th>\n",
       "      <td>pos</td>\n",
       "      <td>دايما شغلهم بأماكن حقيقية ومافيه فوتوشوب ولو ح...</td>\n",
       "    </tr>\n",
       "    <tr>\n",
       "      <th>22750</th>\n",
       "      <td>pos</td>\n",
       "      <td>ستفرج بطريقة يعجز عقلك عن إستيعابها، بإذن الله</td>\n",
       "    </tr>\n",
       "    <tr>\n",
       "      <th>22752</th>\n",
       "      <td>pos</td>\n",
       "      <td>لا لا العميد مراح نقول عنه شي  بس المساكين الي...</td>\n",
       "    </tr>\n",
       "    <tr>\n",
       "      <th>22753</th>\n",
       "      <td>pos</td>\n",
       "      <td>- على سبيل إعادة التدوير  أدوات_تعزز_الإستدامة</td>\n",
       "    </tr>\n",
       "    <tr>\n",
       "      <th>22758</th>\n",
       "      <td>pos</td>\n",
       "      <td>كلاام جمييل تستاهل(من احبه الله جعل محبته ف قل...</td>\n",
       "    </tr>\n",
       "  </tbody>\n",
       "</table>\n",
       "<p>29554 rows × 2 columns</p>\n",
       "</div>"
      ],
      "text/plain": [
       "      state                                              tweet\n",
       "0       neg  اعترف ان بتس كانو شوي شوي يجيبو راسي لكن اليوم...\n",
       "1       neg  توقعت اذا جات داريا بشوفهم كاملين بس لي للحين ...\n",
       "2       neg  الاهلي_الهلال اكتب توقعك لنتيجة لقاء الهلال وا...\n",
       "3       neg  نعمة المضادات الحيوية . تضع قطرةمضاد بنسلين عل...\n",
       "4       neg                              الدودو جايه تكمل علي \n",
       "...     ...                                                ...\n",
       "22748   pos  دايما شغلهم بأماكن حقيقية ومافيه فوتوشوب ولو ح...\n",
       "22750   pos    ستفرج بطريقة يعجز عقلك عن إستيعابها، بإذن الله \n",
       "22752   pos  لا لا العميد مراح نقول عنه شي  بس المساكين الي...\n",
       "22753   pos    - على سبيل إعادة التدوير  أدوات_تعزز_الإستدامة \n",
       "22758   pos  كلاام جمييل تستاهل(من احبه الله جعل محبته ف قل...\n",
       "\n",
       "[29554 rows x 2 columns]"
      ]
     },
     "execution_count": 19,
     "metadata": {},
     "output_type": "execute_result"
    }
   ],
   "source": [
    "df"
   ]
  },
  {
   "cell_type": "markdown",
   "id": "7620f31d",
   "metadata": {},
   "source": [
    "### removing stop words "
   ]
  },
  {
   "cell_type": "code",
   "execution_count": 20,
   "id": "09019003",
   "metadata": {},
   "outputs": [],
   "source": [
    "import nltk"
   ]
  },
  {
   "cell_type": "code",
   "execution_count": 21,
   "id": "7f92aaa4",
   "metadata": {},
   "outputs": [
    {
     "name": "stderr",
     "output_type": "stream",
     "text": [
      "[nltk_data] Error loading stopwords: <urlopen error [Errno 11001]\n",
      "[nltk_data]     getaddrinfo failed>\n"
     ]
    },
    {
     "data": {
      "text/plain": [
       "False"
      ]
     },
     "execution_count": 21,
     "metadata": {},
     "output_type": "execute_result"
    }
   ],
   "source": [
    "nltk.download(\"stopwords\")"
   ]
  },
  {
   "cell_type": "code",
   "execution_count": 22,
   "id": "7f268249",
   "metadata": {},
   "outputs": [
    {
     "name": "stdout",
     "output_type": "stream",
     "text": [
      "754\n"
     ]
    }
   ],
   "source": [
    "from nltk.corpus import stopwords\n",
    "arabic =stopwords.words('arabic')\n",
    "print(len(arabic))\n"
   ]
  },
  {
   "cell_type": "code",
   "execution_count": 23,
   "id": "f7b2c904",
   "metadata": {},
   "outputs": [
    {
     "name": "stdout",
     "output_type": "stream",
     "text": [
      "['إذ', 'إذا', 'إذما', 'إذن', 'أف', 'أقل', 'أكثر', 'ألا', 'إلا', 'التي', 'الذي', 'الذين', 'اللاتي', 'اللائي', 'اللتان', 'اللتيا', 'اللتين', 'اللذان', 'اللذين', 'اللواتي', 'إلى', 'إليك', 'إليكم', 'إليكما', 'إليكن', 'أم', 'أما', 'أما', 'إما', 'أن', 'إن', 'إنا', 'أنا', 'أنت', 'أنتم', 'أنتما', 'أنتن', 'إنما', 'إنه', 'أنى', 'أنى', 'آه', 'آها', 'أو', 'أولاء', 'أولئك', 'أوه', 'آي', 'أي', 'أيها', 'إي', 'أين', 'أين', 'أينما', 'إيه', 'بخ', 'بس', 'بعد', 'بعض', 'بك', 'بكم', 'بكم', 'بكما', 'بكن', 'بل', 'بلى', 'بما', 'بماذا', 'بمن', 'بنا', 'به', 'بها', 'بهم', 'بهما', 'بهن', 'بي', 'بين', 'بيد', 'تلك', 'تلكم', 'تلكما', 'ته', 'تي', 'تين', 'تينك', 'ثم', 'ثمة', 'حاشا', 'حبذا', 'حتى', 'حيث', 'حيثما', 'حين', 'خلا', 'دون', 'ذا', 'ذات', 'ذاك', 'ذان', 'ذانك', 'ذلك', 'ذلكم', 'ذلكما', 'ذلكن', 'ذه', 'ذو', 'ذوا', 'ذواتا', 'ذواتي', 'ذي', 'ذين', 'ذينك', 'ريث', 'سوف', 'سوى', 'شتان', 'عدا', 'عسى', 'عل', 'على', 'عليك', 'عليه', 'عما', 'عن', 'عند', 'غير', 'فإذا', 'فإن', 'فلا', 'فمن', 'في', 'فيم', 'فيما', 'فيه', 'فيها', 'قد', 'كأن', 'كأنما', 'كأي', 'كأين', 'كذا', 'كذلك', 'كل', 'كلا', 'كلاهما', 'كلتا', 'كلما', 'كليكما', 'كليهما', 'كم', 'كم', 'كما', 'كي', 'كيت', 'كيف', 'كيفما', 'لا', 'لاسيما', 'لدى', 'لست', 'لستم', 'لستما', 'لستن', 'لسن', 'لسنا', 'لعل', 'لك', 'لكم', 'لكما', 'لكن', 'لكنما', 'لكي', 'لكيلا', 'لم', 'لما', 'لن', 'لنا', 'له', 'لها', 'لهم', 'لهما', 'لهن', 'لو', 'لولا', 'لوما', 'لي', 'لئن', 'ليت', 'ليس', 'ليسا', 'ليست', 'ليستا', 'ليسوا', 'ما', 'ماذا', 'متى', 'مذ', 'مع', 'مما', 'ممن', 'من', 'منه', 'منها', 'منذ', 'مه', 'مهما', 'نحن', 'نحو', 'نعم', 'ها', 'هاتان', 'هاته', 'هاتي', 'هاتين', 'هاك', 'هاهنا', 'هذا', 'هذان', 'هذه', 'هذي', 'هذين', 'هكذا', 'هل', 'هلا', 'هم', 'هما', 'هن', 'هنا', 'هناك', 'هنالك', 'هو', 'هؤلاء', 'هي', 'هيا', 'هيت', 'هيهات', 'والذي', 'والذين', 'وإذ', 'وإذا', 'وإن', 'ولا', 'ولكن', 'ولو', 'وما', 'ومن', 'وهو', 'يا', 'أبٌ', 'أخٌ', 'حمٌ', 'فو', 'أنتِ', 'يناير', 'فبراير', 'مارس', 'أبريل', 'مايو', 'يونيو', 'يوليو', 'أغسطس', 'سبتمبر', 'أكتوبر', 'نوفمبر', 'ديسمبر', 'جانفي', 'فيفري', 'مارس', 'أفريل', 'ماي', 'جوان', 'جويلية', 'أوت', 'كانون', 'شباط', 'آذار', 'نيسان', 'أيار', 'حزيران', 'تموز', 'آب', 'أيلول', 'تشرين', 'دولار', 'دينار', 'ريال', 'درهم', 'ليرة', 'جنيه', 'قرش', 'مليم', 'فلس', 'هللة', 'سنتيم', 'يورو', 'ين', 'يوان', 'شيكل', 'واحد', 'اثنان', 'ثلاثة', 'أربعة', 'خمسة', 'ستة', 'سبعة', 'ثمانية', 'تسعة', 'عشرة', 'أحد', 'اثنا', 'اثني', 'إحدى', 'ثلاث', 'أربع', 'خمس', 'ست', 'سبع', 'ثماني', 'تسع', 'عشر', 'ثمان', 'سبت', 'أحد', 'اثنين', 'ثلاثاء', 'أربعاء', 'خميس', 'جمعة', 'أول', 'ثان', 'ثاني', 'ثالث', 'رابع', 'خامس', 'سادس', 'سابع', 'ثامن', 'تاسع', 'عاشر', 'حادي', 'أ', 'ب', 'ت', 'ث', 'ج', 'ح', 'خ', 'د', 'ذ', 'ر', 'ز', 'س', 'ش', 'ص', 'ض', 'ط', 'ظ', 'ع', 'غ', 'ف', 'ق', 'ك', 'ل', 'م', 'ن', 'ه', 'و', 'ي', 'ء', 'ى', 'آ', 'ؤ', 'ئ', 'أ', 'ة', 'ألف', 'باء', 'تاء', 'ثاء', 'جيم', 'حاء', 'خاء', 'دال', 'ذال', 'راء', 'زاي', 'سين', 'شين', 'صاد', 'ضاد', 'طاء', 'ظاء', 'عين', 'غين', 'فاء', 'قاف', 'كاف', 'لام', 'ميم', 'نون', 'هاء', 'واو', 'ياء', 'همزة', 'ي', 'نا', 'ك', 'كن', 'ه', 'إياه', 'إياها', 'إياهما', 'إياهم', 'إياهن', 'إياك', 'إياكما', 'إياكم', 'إياك', 'إياكن', 'إياي', 'إيانا', 'أولالك', 'تانِ', 'تانِك', 'تِه', 'تِي', 'تَيْنِ', 'ثمّ', 'ثمّة', 'ذانِ', 'ذِه', 'ذِي', 'ذَيْنِ', 'هَؤلاء', 'هَاتانِ', 'هَاتِه', 'هَاتِي', 'هَاتَيْنِ', 'هَذا', 'هَذانِ', 'هَذِه', 'هَذِي', 'هَذَيْنِ', 'الألى', 'الألاء', 'أل', 'أنّى', 'أيّ', 'ّأيّان', 'أنّى', 'أيّ', 'ّأيّان', 'ذيت', 'كأيّ', 'كأيّن', 'بضع', 'فلان', 'وا', 'آمينَ', 'آهِ', 'آهٍ', 'آهاً', 'أُفٍّ', 'أُفٍّ', 'أفٍّ', 'أمامك', 'أمامكَ', 'أوّهْ', 'إلَيْكَ', 'إلَيْكَ', 'إليكَ', 'إليكنّ', 'إيهٍ', 'بخٍ', 'بسّ', 'بَسْ', 'بطآن', 'بَلْهَ', 'حاي', 'حَذارِ', 'حيَّ', 'حيَّ', 'دونك', 'رويدك', 'سرعان', 'شتانَ', 'شَتَّانَ', 'صهْ', 'صهٍ', 'طاق', 'طَق', 'عَدَسْ', 'كِخ', 'مكانَك', 'مكانَك', 'مكانَك', 'مكانكم', 'مكانكما', 'مكانكنّ', 'نَخْ', 'هاكَ', 'هَجْ', 'هلم', 'هيّا', 'هَيْهات', 'وا', 'واهاً', 'وراءَك', 'وُشْكَانَ', 'وَيْ', 'يفعلان', 'تفعلان', 'يفعلون', 'تفعلون', 'تفعلين', 'اتخذ', 'ألفى', 'تخذ', 'ترك', 'تعلَّم', 'جعل', 'حجا', 'حبيب', 'خال', 'حسب', 'خال', 'درى', 'رأى', 'زعم', 'صبر', 'ظنَّ', 'عدَّ', 'علم', 'غادر', 'ذهب', 'وجد', 'ورد', 'وهب', 'أسكن', 'أطعم', 'أعطى', 'رزق', 'زود', 'سقى', 'كسا', 'أخبر', 'أرى', 'أعلم', 'أنبأ', 'حدَث', 'خبَّر', 'نبَّا', 'أفعل به', 'ما أفعله', 'بئس', 'ساء', 'طالما', 'قلما', 'لات', 'لكنَّ', 'ءَ', 'أجل', 'إذاً', 'أمّا', 'إمّا', 'إنَّ', 'أنًّ', 'أى', 'إى', 'أيا', 'ب', 'ثمَّ', 'جلل', 'جير', 'رُبَّ', 'س', 'علًّ', 'ف', 'كأنّ', 'كلَّا', 'كى', 'ل', 'لات', 'لعلَّ', 'لكنَّ', 'لكنَّ', 'م', 'نَّ', 'هلّا', 'وا', 'أل', 'إلّا', 'ت', 'ك', 'لمّا', 'ن', 'ه', 'و', 'ا', 'ي', 'تجاه', 'تلقاء', 'جميع', 'حسب', 'سبحان', 'شبه', 'لعمر', 'مثل', 'معاذ', 'أبو', 'أخو', 'حمو', 'فو', 'مئة', 'مئتان', 'ثلاثمئة', 'أربعمئة', 'خمسمئة', 'ستمئة', 'سبعمئة', 'ثمنمئة', 'تسعمئة', 'مائة', 'ثلاثمائة', 'أربعمائة', 'خمسمائة', 'ستمائة', 'سبعمائة', 'ثمانمئة', 'تسعمائة', 'عشرون', 'ثلاثون', 'اربعون', 'خمسون', 'ستون', 'سبعون', 'ثمانون', 'تسعون', 'عشرين', 'ثلاثين', 'اربعين', 'خمسين', 'ستين', 'سبعين', 'ثمانين', 'تسعين', 'بضع', 'نيف', 'أجمع', 'جميع', 'عامة', 'عين', 'نفس', 'لا سيما', 'أصلا', 'أهلا', 'أيضا', 'بؤسا', 'بعدا', 'بغتة', 'تعسا', 'حقا', 'حمدا', 'خلافا', 'خاصة', 'دواليك', 'سحقا', 'سرا', 'سمعا', 'صبرا', 'صدقا', 'صراحة', 'طرا', 'عجبا', 'عيانا', 'غالبا', 'فرادى', 'فضلا', 'قاطبة', 'كثيرا', 'لبيك', 'معاذ', 'أبدا', 'إزاء', 'أصلا', 'الآن', 'أمد', 'أمس', 'آنفا', 'آناء', 'أنّى', 'أول', 'أيّان', 'تارة', 'ثمّ', 'ثمّة', 'حقا', 'صباح', 'مساء', 'ضحوة', 'عوض', 'غدا', 'غداة', 'قطّ', 'كلّما', 'لدن', 'لمّا', 'مرّة', 'قبل', 'خلف', 'أمام', 'فوق', 'تحت', 'يمين', 'شمال', 'ارتدّ', 'استحال', 'أصبح', 'أضحى', 'آض', 'أمسى', 'انقلب', 'بات', 'تبدّل', 'تحوّل', 'حار', 'رجع', 'راح', 'صار', 'ظلّ', 'عاد', 'غدا', 'كان', 'ما انفك', 'ما برح', 'مادام', 'مازال', 'مافتئ', 'ابتدأ', 'أخذ', 'اخلولق', 'أقبل', 'انبرى', 'أنشأ', 'أوشك', 'جعل', 'حرى', 'شرع', 'طفق', 'علق', 'قام', 'كرب', 'كاد', 'هبّ']\n"
     ]
    }
   ],
   "source": [
    "print(arabic)"
   ]
  },
  {
   "cell_type": "code",
   "execution_count": 24,
   "id": "da0b6b56",
   "metadata": {},
   "outputs": [],
   "source": [
    "df['tweet_without_stopwords'] = df['tweet'].apply(lambda x: ' '.join([word for word in x.split() if word not in (arabic)]))"
   ]
  },
  {
   "cell_type": "markdown",
   "id": "b48a99bd",
   "metadata": {},
   "source": [
    "### adding tweets column  without the stop words "
   ]
  },
  {
   "cell_type": "code",
   "execution_count": 25,
   "id": "0178264d",
   "metadata": {},
   "outputs": [
    {
     "data": {
      "text/html": [
       "<div>\n",
       "<style scoped>\n",
       "    .dataframe tbody tr th:only-of-type {\n",
       "        vertical-align: middle;\n",
       "    }\n",
       "\n",
       "    .dataframe tbody tr th {\n",
       "        vertical-align: top;\n",
       "    }\n",
       "\n",
       "    .dataframe thead th {\n",
       "        text-align: right;\n",
       "    }\n",
       "</style>\n",
       "<table border=\"1\" class=\"dataframe\">\n",
       "  <thead>\n",
       "    <tr style=\"text-align: right;\">\n",
       "      <th></th>\n",
       "      <th>state</th>\n",
       "      <th>tweet</th>\n",
       "      <th>tweet_without_stopwords</th>\n",
       "    </tr>\n",
       "  </thead>\n",
       "  <tbody>\n",
       "    <tr>\n",
       "      <th>0</th>\n",
       "      <td>neg</td>\n",
       "      <td>اعترف ان بتس كانو شوي شوي يجيبو راسي لكن اليوم...</td>\n",
       "      <td>اعترف ان بتس كانو شوي شوي يجيبو راسي اليوم بال...</td>\n",
       "    </tr>\n",
       "    <tr>\n",
       "      <th>1</th>\n",
       "      <td>neg</td>\n",
       "      <td>توقعت اذا جات داريا بشوفهم كاملين بس لي للحين ...</td>\n",
       "      <td>توقعت اذا جات داريا بشوفهم كاملين للحين احس اح...</td>\n",
       "    </tr>\n",
       "    <tr>\n",
       "      <th>2</th>\n",
       "      <td>neg</td>\n",
       "      <td>الاهلي_الهلال اكتب توقعك لنتيجة لقاء الهلال وا...</td>\n",
       "      <td>الاهلي_الهلال اكتب توقعك لنتيجة لقاء الهلال وا...</td>\n",
       "    </tr>\n",
       "    <tr>\n",
       "      <th>3</th>\n",
       "      <td>neg</td>\n",
       "      <td>نعمة المضادات الحيوية . تضع قطرةمضاد بنسلين عل...</td>\n",
       "      <td>نعمة المضادات الحيوية . تضع قطرةمضاد بنسلين بك...</td>\n",
       "    </tr>\n",
       "    <tr>\n",
       "      <th>4</th>\n",
       "      <td>neg</td>\n",
       "      <td>الدودو جايه تكمل علي</td>\n",
       "      <td>الدودو جايه تكمل علي</td>\n",
       "    </tr>\n",
       "  </tbody>\n",
       "</table>\n",
       "</div>"
      ],
      "text/plain": [
       "  state                                              tweet  \\\n",
       "0   neg  اعترف ان بتس كانو شوي شوي يجيبو راسي لكن اليوم...   \n",
       "1   neg  توقعت اذا جات داريا بشوفهم كاملين بس لي للحين ...   \n",
       "2   neg  الاهلي_الهلال اكتب توقعك لنتيجة لقاء الهلال وا...   \n",
       "3   neg  نعمة المضادات الحيوية . تضع قطرةمضاد بنسلين عل...   \n",
       "4   neg                              الدودو جايه تكمل علي    \n",
       "\n",
       "                             tweet_without_stopwords  \n",
       "0  اعترف ان بتس كانو شوي شوي يجيبو راسي اليوم بال...  \n",
       "1  توقعت اذا جات داريا بشوفهم كاملين للحين احس اح...  \n",
       "2  الاهلي_الهلال اكتب توقعك لنتيجة لقاء الهلال وا...  \n",
       "3  نعمة المضادات الحيوية . تضع قطرةمضاد بنسلين بك...  \n",
       "4                               الدودو جايه تكمل علي  "
      ]
     },
     "execution_count": 25,
     "metadata": {},
     "output_type": "execute_result"
    }
   ],
   "source": [
    "df.head()"
   ]
  },
  {
   "cell_type": "markdown",
   "id": "505fd1ae",
   "metadata": {},
   "source": [
    "### removing the tweet column that contain stop word for accurate analysis"
   ]
  },
  {
   "cell_type": "code",
   "execution_count": 26,
   "id": "917ec5f9",
   "metadata": {},
   "outputs": [],
   "source": [
    "df.drop('tweet',axis=1,inplace=True)"
   ]
  },
  {
   "cell_type": "code",
   "execution_count": 27,
   "id": "3b607fef",
   "metadata": {},
   "outputs": [
    {
     "data": {
      "text/html": [
       "<div>\n",
       "<style scoped>\n",
       "    .dataframe tbody tr th:only-of-type {\n",
       "        vertical-align: middle;\n",
       "    }\n",
       "\n",
       "    .dataframe tbody tr th {\n",
       "        vertical-align: top;\n",
       "    }\n",
       "\n",
       "    .dataframe thead th {\n",
       "        text-align: right;\n",
       "    }\n",
       "</style>\n",
       "<table border=\"1\" class=\"dataframe\">\n",
       "  <thead>\n",
       "    <tr style=\"text-align: right;\">\n",
       "      <th></th>\n",
       "      <th>state</th>\n",
       "      <th>tweet_without_stopwords</th>\n",
       "    </tr>\n",
       "  </thead>\n",
       "  <tbody>\n",
       "    <tr>\n",
       "      <th>0</th>\n",
       "      <td>neg</td>\n",
       "      <td>اعترف ان بتس كانو شوي شوي يجيبو راسي اليوم بال...</td>\n",
       "    </tr>\n",
       "    <tr>\n",
       "      <th>1</th>\n",
       "      <td>neg</td>\n",
       "      <td>توقعت اذا جات داريا بشوفهم كاملين للحين احس اح...</td>\n",
       "    </tr>\n",
       "    <tr>\n",
       "      <th>2</th>\n",
       "      <td>neg</td>\n",
       "      <td>الاهلي_الهلال اكتب توقعك لنتيجة لقاء الهلال وا...</td>\n",
       "    </tr>\n",
       "    <tr>\n",
       "      <th>3</th>\n",
       "      <td>neg</td>\n",
       "      <td>نعمة المضادات الحيوية . تضع قطرةمضاد بنسلين بك...</td>\n",
       "    </tr>\n",
       "    <tr>\n",
       "      <th>4</th>\n",
       "      <td>neg</td>\n",
       "      <td>الدودو جايه تكمل علي</td>\n",
       "    </tr>\n",
       "    <tr>\n",
       "      <th>...</th>\n",
       "      <td>...</td>\n",
       "      <td>...</td>\n",
       "    </tr>\n",
       "    <tr>\n",
       "      <th>22748</th>\n",
       "      <td>pos</td>\n",
       "      <td>دايما شغلهم بأماكن حقيقية ومافيه فوتوشوب حطوا ...</td>\n",
       "    </tr>\n",
       "    <tr>\n",
       "      <th>22750</th>\n",
       "      <td>pos</td>\n",
       "      <td>ستفرج بطريقة يعجز عقلك إستيعابها، بإذن الله</td>\n",
       "    </tr>\n",
       "    <tr>\n",
       "      <th>22752</th>\n",
       "      <td>pos</td>\n",
       "      <td>العميد مراح نقول عنه شي المساكين الي متحمسين ل...</td>\n",
       "    </tr>\n",
       "    <tr>\n",
       "      <th>22753</th>\n",
       "      <td>pos</td>\n",
       "      <td>- سبيل إعادة التدوير أدوات_تعزز_الإستدامة</td>\n",
       "    </tr>\n",
       "    <tr>\n",
       "      <th>22758</th>\n",
       "      <td>pos</td>\n",
       "      <td>كلاام جمييل تستاهل(من احبه الله محبته قلوب البشر)</td>\n",
       "    </tr>\n",
       "  </tbody>\n",
       "</table>\n",
       "<p>29554 rows × 2 columns</p>\n",
       "</div>"
      ],
      "text/plain": [
       "      state                            tweet_without_stopwords\n",
       "0       neg  اعترف ان بتس كانو شوي شوي يجيبو راسي اليوم بال...\n",
       "1       neg  توقعت اذا جات داريا بشوفهم كاملين للحين احس اح...\n",
       "2       neg  الاهلي_الهلال اكتب توقعك لنتيجة لقاء الهلال وا...\n",
       "3       neg  نعمة المضادات الحيوية . تضع قطرةمضاد بنسلين بك...\n",
       "4       neg                               الدودو جايه تكمل علي\n",
       "...     ...                                                ...\n",
       "22748   pos  دايما شغلهم بأماكن حقيقية ومافيه فوتوشوب حطوا ...\n",
       "22750   pos        ستفرج بطريقة يعجز عقلك إستيعابها، بإذن الله\n",
       "22752   pos  العميد مراح نقول عنه شي المساكين الي متحمسين ل...\n",
       "22753   pos          - سبيل إعادة التدوير أدوات_تعزز_الإستدامة\n",
       "22758   pos  كلاام جمييل تستاهل(من احبه الله محبته قلوب البشر)\n",
       "\n",
       "[29554 rows x 2 columns]"
      ]
     },
     "execution_count": 27,
     "metadata": {},
     "output_type": "execute_result"
    }
   ],
   "source": [
    "df"
   ]
  },
  {
   "cell_type": "markdown",
   "id": "8642fad9",
   "metadata": {},
   "source": [
    "### shuffle the (pos&neg)tweets to make accurate model "
   ]
  },
  {
   "cell_type": "code",
   "execution_count": 28,
   "id": "e2c1cf8f",
   "metadata": {},
   "outputs": [],
   "source": [
    "from sklearn.utils import shuffle\n",
    "df = shuffle(df)"
   ]
  },
  {
   "cell_type": "code",
   "execution_count": 29,
   "id": "2ec103e2",
   "metadata": {},
   "outputs": [
    {
     "data": {
      "text/html": [
       "<div>\n",
       "<style scoped>\n",
       "    .dataframe tbody tr th:only-of-type {\n",
       "        vertical-align: middle;\n",
       "    }\n",
       "\n",
       "    .dataframe tbody tr th {\n",
       "        vertical-align: top;\n",
       "    }\n",
       "\n",
       "    .dataframe thead th {\n",
       "        text-align: right;\n",
       "    }\n",
       "</style>\n",
       "<table border=\"1\" class=\"dataframe\">\n",
       "  <thead>\n",
       "    <tr style=\"text-align: right;\">\n",
       "      <th></th>\n",
       "      <th>state</th>\n",
       "      <th>tweet_without_stopwords</th>\n",
       "    </tr>\n",
       "  </thead>\n",
       "  <tbody>\n",
       "    <tr>\n",
       "      <th>10062</th>\n",
       "      <td>neg</td>\n",
       "      <td>قدرت ومافلعته بشي</td>\n",
       "    </tr>\n",
       "    <tr>\n",
       "      <th>2473</th>\n",
       "      <td>pos</td>\n",
       "      <td>توكل الإنسان خالقه الله سبحانه وتعالى أمده الل...</td>\n",
       "    </tr>\n",
       "    <tr>\n",
       "      <th>1141</th>\n",
       "      <td>pos</td>\n",
       "      <td>خاطري كلام مير ماقلته</td>\n",
       "    </tr>\n",
       "    <tr>\n",
       "      <th>10979</th>\n",
       "      <td>neg</td>\n",
       "      <td>شرطة الامارات سيارة_قطرية بالقوة</td>\n",
       "    </tr>\n",
       "    <tr>\n",
       "      <th>9265</th>\n",
       "      <td>neg</td>\n",
       "      <td>دوامك يتغير لمده اسبوع</td>\n",
       "    </tr>\n",
       "    <tr>\n",
       "      <th>...</th>\n",
       "      <td>...</td>\n",
       "      <td>...</td>\n",
       "    </tr>\n",
       "    <tr>\n",
       "      <th>1736</th>\n",
       "      <td>pos</td>\n",
       "      <td>كنت معتمدة بشكل كبير</td>\n",
       "    </tr>\n",
       "    <tr>\n",
       "      <th>1935</th>\n",
       "      <td>pos</td>\n",
       "      <td>- ألطف صورة ممكن تعبر رمضان</td>\n",
       "    </tr>\n",
       "    <tr>\n",
       "      <th>9712</th>\n",
       "      <td>pos</td>\n",
       "      <td>وش_يقول_الليل طال هاجوسك ،، يقول امرح ترى الصب...</td>\n",
       "    </tr>\n",
       "    <tr>\n",
       "      <th>13915</th>\n",
       "      <td>neg</td>\n",
       "      <td>خلصت طاقته بالاخير اه مستحيل اشوف اضحك</td>\n",
       "    </tr>\n",
       "    <tr>\n",
       "      <th>3148</th>\n",
       "      <td>pos</td>\n",
       "      <td>تعلمون او تعلمون ان قلب الرجل غرفة صغيرة مغلقة...</td>\n",
       "    </tr>\n",
       "  </tbody>\n",
       "</table>\n",
       "<p>29554 rows × 2 columns</p>\n",
       "</div>"
      ],
      "text/plain": [
       "      state                            tweet_without_stopwords\n",
       "10062   neg                                  قدرت ومافلعته بشي\n",
       "2473    pos  توكل الإنسان خالقه الله سبحانه وتعالى أمده الل...\n",
       "1141    pos                              خاطري كلام مير ماقلته\n",
       "10979   neg                   شرطة الامارات سيارة_قطرية بالقوة\n",
       "9265    neg                             دوامك يتغير لمده اسبوع\n",
       "...     ...                                                ...\n",
       "1736    pos                               كنت معتمدة بشكل كبير\n",
       "1935    pos                        - ألطف صورة ممكن تعبر رمضان\n",
       "9712    pos  وش_يقول_الليل طال هاجوسك ،، يقول امرح ترى الصب...\n",
       "13915   neg             خلصت طاقته بالاخير اه مستحيل اشوف اضحك\n",
       "3148    pos  تعلمون او تعلمون ان قلب الرجل غرفة صغيرة مغلقة...\n",
       "\n",
       "[29554 rows x 2 columns]"
      ]
     },
     "execution_count": 29,
     "metadata": {},
     "output_type": "execute_result"
    }
   ],
   "source": [
    "df"
   ]
  },
  {
   "cell_type": "markdown",
   "id": "eda3619d",
   "metadata": {},
   "source": [
    "### sentiment analysis"
   ]
  },
  {
   "cell_type": "code",
   "execution_count": 30,
   "id": "3dc762c4",
   "metadata": {},
   "outputs": [],
   "source": [
    "df=df.copy()\n",
    "def getSubjectivity(text):\n",
    "     return TextBlob(text).sentiment.subjectivity\n",
    "    \n",
    "def getPolarity(text):\n",
    "    return TextBlob(text).sentiment.polarity\n",
    "\n",
    "\n",
    "df[\"sujectivity\"]=df[\"tweet_without_stopwords\"].apply(getSubjectivity)\n",
    "df[\"polarity\"]=df[\"tweet_without_stopwords\"].apply(getPolarity)"
   ]
  },
  {
   "cell_type": "markdown",
   "id": "8b99dcfe",
   "metadata": {},
   "source": [
    "### return the status of each tweet(pos/neg/neutral)and subjectivity value"
   ]
  },
  {
   "cell_type": "code",
   "execution_count": 31,
   "id": "4bcd3bc6",
   "metadata": {},
   "outputs": [],
   "source": [
    "def getSentimentAnalysis(score):\n",
    "    if score < 0 :\n",
    "        return 'Negative'\n",
    "    elif score == 0:\n",
    "            return 'Neutral'\n",
    "    else:\n",
    "        return 'Positive'\n",
    "    \n",
    "df[\"Analysis\"] = df[\"polarity\"].apply(getSentimentAnalysis)\n",
    "     "
   ]
  },
  {
   "cell_type": "code",
   "execution_count": 32,
   "id": "a64bd139",
   "metadata": {},
   "outputs": [
    {
     "data": {
      "text/html": [
       "<div>\n",
       "<style scoped>\n",
       "    .dataframe tbody tr th:only-of-type {\n",
       "        vertical-align: middle;\n",
       "    }\n",
       "\n",
       "    .dataframe tbody tr th {\n",
       "        vertical-align: top;\n",
       "    }\n",
       "\n",
       "    .dataframe thead th {\n",
       "        text-align: right;\n",
       "    }\n",
       "</style>\n",
       "<table border=\"1\" class=\"dataframe\">\n",
       "  <thead>\n",
       "    <tr style=\"text-align: right;\">\n",
       "      <th></th>\n",
       "      <th>state</th>\n",
       "      <th>tweet_without_stopwords</th>\n",
       "      <th>sujectivity</th>\n",
       "      <th>polarity</th>\n",
       "      <th>Analysis</th>\n",
       "    </tr>\n",
       "  </thead>\n",
       "  <tbody>\n",
       "    <tr>\n",
       "      <th>10062</th>\n",
       "      <td>neg</td>\n",
       "      <td>قدرت ومافلعته بشي</td>\n",
       "      <td>0.0</td>\n",
       "      <td>0.00</td>\n",
       "      <td>Neutral</td>\n",
       "    </tr>\n",
       "    <tr>\n",
       "      <th>2473</th>\n",
       "      <td>pos</td>\n",
       "      <td>توكل الإنسان خالقه الله سبحانه وتعالى أمده الل...</td>\n",
       "      <td>1.0</td>\n",
       "      <td>-0.75</td>\n",
       "      <td>Negative</td>\n",
       "    </tr>\n",
       "    <tr>\n",
       "      <th>1141</th>\n",
       "      <td>pos</td>\n",
       "      <td>خاطري كلام مير ماقلته</td>\n",
       "      <td>0.0</td>\n",
       "      <td>0.00</td>\n",
       "      <td>Neutral</td>\n",
       "    </tr>\n",
       "    <tr>\n",
       "      <th>10979</th>\n",
       "      <td>neg</td>\n",
       "      <td>شرطة الامارات سيارة_قطرية بالقوة</td>\n",
       "      <td>0.0</td>\n",
       "      <td>0.00</td>\n",
       "      <td>Neutral</td>\n",
       "    </tr>\n",
       "    <tr>\n",
       "      <th>9265</th>\n",
       "      <td>neg</td>\n",
       "      <td>دوامك يتغير لمده اسبوع</td>\n",
       "      <td>0.0</td>\n",
       "      <td>0.00</td>\n",
       "      <td>Neutral</td>\n",
       "    </tr>\n",
       "    <tr>\n",
       "      <th>737</th>\n",
       "      <td>pos</td>\n",
       "      <td>طنجة المغرب تسكن قلوب ملايين العرب ،لازم تكون ...</td>\n",
       "      <td>0.0</td>\n",
       "      <td>0.00</td>\n",
       "      <td>Neutral</td>\n",
       "    </tr>\n",
       "    <tr>\n",
       "      <th>15112</th>\n",
       "      <td>neg</td>\n",
       "      <td>الحب الموت ماله مواعيد والموت الحب ينهي حياتك</td>\n",
       "      <td>0.0</td>\n",
       "      <td>0.00</td>\n",
       "      <td>Neutral</td>\n",
       "    </tr>\n",
       "    <tr>\n",
       "      <th>13581</th>\n",
       "      <td>neg</td>\n",
       "      <td>عادي اهم شيء ضحكنا ووسعنا صدورنا الي بيصير</td>\n",
       "      <td>0.0</td>\n",
       "      <td>0.00</td>\n",
       "      <td>Neutral</td>\n",
       "    </tr>\n",
       "    <tr>\n",
       "      <th>15131</th>\n",
       "      <td>neg</td>\n",
       "      <td>يارب وطني يذوق الحياه بطعم الدم يتألم جراحه تن...</td>\n",
       "      <td>0.0</td>\n",
       "      <td>0.00</td>\n",
       "      <td>Neutral</td>\n",
       "    </tr>\n",
       "    <tr>\n",
       "      <th>3573</th>\n",
       "      <td>pos</td>\n",
       "      <td>يسعد صباحكم</td>\n",
       "      <td>0.0</td>\n",
       "      <td>0.00</td>\n",
       "      <td>Neutral</td>\n",
       "    </tr>\n",
       "    <tr>\n",
       "      <th>14787</th>\n",
       "      <td>pos</td>\n",
       "      <td>والقلب رمضان تواق اللهم بارك شعبان وسلمنا لرمض...</td>\n",
       "      <td>0.0</td>\n",
       "      <td>0.00</td>\n",
       "      <td>Neutral</td>\n",
       "    </tr>\n",
       "    <tr>\n",
       "      <th>328</th>\n",
       "      <td>neg</td>\n",
       "      <td>افا اخرتها نردد نشيد الاتحاد طول عمرنا نهايط و...</td>\n",
       "      <td>0.0</td>\n",
       "      <td>0.00</td>\n",
       "      <td>Neutral</td>\n",
       "    </tr>\n",
       "    <tr>\n",
       "      <th>16218</th>\n",
       "      <td>neg</td>\n",
       "      <td>محتاجته لرمضان محطيني صباية</td>\n",
       "      <td>0.0</td>\n",
       "      <td>0.00</td>\n",
       "      <td>Neutral</td>\n",
       "    </tr>\n",
       "    <tr>\n",
       "      <th>10841</th>\n",
       "      <td>neg</td>\n",
       "      <td>المشكله انا اللي صحيته</td>\n",
       "      <td>0.0</td>\n",
       "      <td>0.00</td>\n",
       "      <td>Neutral</td>\n",
       "    </tr>\n",
       "    <tr>\n",
       "      <th>5066</th>\n",
       "      <td>neg</td>\n",
       "      <td>بروح اقردن صراحه أظنه يعلمني منهي</td>\n",
       "      <td>0.0</td>\n",
       "      <td>0.00</td>\n",
       "      <td>Neutral</td>\n",
       "    </tr>\n",
       "    <tr>\n",
       "      <th>10925</th>\n",
       "      <td>neg</td>\n",
       "      <td>فورتنايت ابي بنات</td>\n",
       "      <td>0.0</td>\n",
       "      <td>0.00</td>\n",
       "      <td>Neutral</td>\n",
       "    </tr>\n",
       "    <tr>\n",
       "      <th>14748</th>\n",
       "      <td>pos</td>\n",
       "      <td>غيرك يجي يروح وأقول ( مسموح ) \" إنت \" تسوى بدو...</td>\n",
       "      <td>0.0</td>\n",
       "      <td>0.00</td>\n",
       "      <td>Neutral</td>\n",
       "    </tr>\n",
       "    <tr>\n",
       "      <th>7431</th>\n",
       "      <td>pos</td>\n",
       "      <td>انا فسرتها المناخ</td>\n",
       "      <td>0.0</td>\n",
       "      <td>0.00</td>\n",
       "      <td>Neutral</td>\n",
       "    </tr>\n",
       "    <tr>\n",
       "      <th>18703</th>\n",
       "      <td>neg</td>\n",
       "      <td>لون كندورة عبدالرحمن محمد عجيب ماتعرفله لون با...</td>\n",
       "      <td>0.0</td>\n",
       "      <td>0.00</td>\n",
       "      <td>Neutral</td>\n",
       "    </tr>\n",
       "    <tr>\n",
       "      <th>8415</th>\n",
       "      <td>pos</td>\n",
       "      <td>عقب عرفت الفايده اللي حرمت اكله</td>\n",
       "      <td>0.0</td>\n",
       "      <td>0.00</td>\n",
       "      <td>Neutral</td>\n",
       "    </tr>\n",
       "    <tr>\n",
       "      <th>15357</th>\n",
       "      <td>neg</td>\n",
       "      <td>ععيوني الثنين</td>\n",
       "      <td>0.0</td>\n",
       "      <td>0.00</td>\n",
       "      <td>Neutral</td>\n",
       "    </tr>\n",
       "    <tr>\n",
       "      <th>3358</th>\n",
       "      <td>pos</td>\n",
       "      <td>اشتاقت_لك_حيل أشتاق توك تروح وش حالتي طال عني ...</td>\n",
       "      <td>0.0</td>\n",
       "      <td>0.00</td>\n",
       "      <td>Neutral</td>\n",
       "    </tr>\n",
       "    <tr>\n",
       "      <th>3409</th>\n",
       "      <td>pos</td>\n",
       "      <td>الله يجمع الحي بالحي</td>\n",
       "      <td>0.0</td>\n",
       "      <td>0.00</td>\n",
       "      <td>Neutral</td>\n",
       "    </tr>\n",
       "    <tr>\n",
       "      <th>1129</th>\n",
       "      <td>neg</td>\n",
       "      <td>قال : انتي بتستاهلي احسن مني - مسحت دموعها وقا...</td>\n",
       "      <td>0.0</td>\n",
       "      <td>0.00</td>\n",
       "      <td>Neutral</td>\n",
       "    </tr>\n",
       "    <tr>\n",
       "      <th>1657</th>\n",
       "      <td>neg</td>\n",
       "      <td>لاتسألو فتاة مات أبيها حزنها لأنها لاتعرف السب...</td>\n",
       "      <td>0.0</td>\n",
       "      <td>0.00</td>\n",
       "      <td>Neutral</td>\n",
       "    </tr>\n",
       "    <tr>\n",
       "      <th>20512</th>\n",
       "      <td>neg</td>\n",
       "      <td>جهازي العصبي بيتدمر قلة النوم ضغط الربو</td>\n",
       "      <td>0.0</td>\n",
       "      <td>0.00</td>\n",
       "      <td>Neutral</td>\n",
       "    </tr>\n",
       "    <tr>\n",
       "      <th>10179</th>\n",
       "      <td>pos</td>\n",
       "      <td>المشاعر_هالليله_تقول اجا الليل شيخلصه الليل ..</td>\n",
       "      <td>0.0</td>\n",
       "      <td>0.00</td>\n",
       "      <td>Neutral</td>\n",
       "    </tr>\n",
       "    <tr>\n",
       "      <th>18696</th>\n",
       "      <td>pos</td>\n",
       "      <td>بالنسبة وراي شخصي افصل فلم شفته بحياتي</td>\n",
       "      <td>0.0</td>\n",
       "      <td>0.00</td>\n",
       "      <td>Neutral</td>\n",
       "    </tr>\n",
       "    <tr>\n",
       "      <th>17630</th>\n",
       "      <td>pos</td>\n",
       "      <td>الأهلي أخير ↩ لهبوط الأهلي الأهلي مركز ↩ حرك ش...</td>\n",
       "      <td>0.0</td>\n",
       "      <td>0.00</td>\n",
       "      <td>Neutral</td>\n",
       "    </tr>\n",
       "    <tr>\n",
       "      <th>17255</th>\n",
       "      <td>neg</td>\n",
       "      <td>اللهن المطر بشرنا بشفاء صديقتي شفاء يغادر سقما...</td>\n",
       "      <td>0.0</td>\n",
       "      <td>0.00</td>\n",
       "      <td>Neutral</td>\n",
       "    </tr>\n",
       "    <tr>\n",
       "      <th>12050</th>\n",
       "      <td>neg</td>\n",
       "      <td>وصوت الرصاص كمان</td>\n",
       "      <td>0.0</td>\n",
       "      <td>0.00</td>\n",
       "      <td>Neutral</td>\n",
       "    </tr>\n",
       "    <tr>\n",
       "      <th>21431</th>\n",
       "      <td>neg</td>\n",
       "      <td>المعنويات صفر وذلك بسبب غياب منصور</td>\n",
       "      <td>0.0</td>\n",
       "      <td>0.00</td>\n",
       "      <td>Neutral</td>\n",
       "    </tr>\n",
       "    <tr>\n",
       "      <th>22535</th>\n",
       "      <td>pos</td>\n",
       "      <td>ماخنت حبك يوم الاحباب خانت شبيت لگ نار الوفاء ...</td>\n",
       "      <td>0.0</td>\n",
       "      <td>0.00</td>\n",
       "      <td>Neutral</td>\n",
       "    </tr>\n",
       "    <tr>\n",
       "      <th>19546</th>\n",
       "      <td>neg</td>\n",
       "      <td>ألوس بليز ردي مشاريع لحفلات قريبا بأوروبا عنا ...</td>\n",
       "      <td>0.0</td>\n",
       "      <td>0.00</td>\n",
       "      <td>Neutral</td>\n",
       "    </tr>\n",
       "    <tr>\n",
       "      <th>11388</th>\n",
       "      <td>neg</td>\n",
       "      <td>اوبس :( ، اكلمك</td>\n",
       "      <td>1.0</td>\n",
       "      <td>-0.75</td>\n",
       "      <td>Negative</td>\n",
       "    </tr>\n",
       "    <tr>\n",
       "      <th>15886</th>\n",
       "      <td>neg</td>\n",
       "      <td>المطلوب شنو نهج احنا هماتين.</td>\n",
       "      <td>0.0</td>\n",
       "      <td>0.00</td>\n",
       "      <td>Neutral</td>\n",
       "    </tr>\n",
       "    <tr>\n",
       "      <th>9636</th>\n",
       "      <td>neg</td>\n",
       "      <td>مشهد مرعب</td>\n",
       "      <td>0.0</td>\n",
       "      <td>0.00</td>\n",
       "      <td>Neutral</td>\n",
       "    </tr>\n",
       "    <tr>\n",
       "      <th>21254</th>\n",
       "      <td>neg</td>\n",
       "      <td>ال مايشوف أمه بصباحه هوه والميت سوا</td>\n",
       "      <td>0.0</td>\n",
       "      <td>0.00</td>\n",
       "      <td>Neutral</td>\n",
       "    </tr>\n",
       "    <tr>\n",
       "      <th>12066</th>\n",
       "      <td>pos</td>\n",
       "      <td>انا جدول الضرب ينضرب الارقاام يختلف تطلع الشمس...</td>\n",
       "      <td>0.0</td>\n",
       "      <td>0.00</td>\n",
       "      <td>Neutral</td>\n",
       "    </tr>\n",
       "    <tr>\n",
       "      <th>14300</th>\n",
       "      <td>neg</td>\n",
       "      <td>تكفيين اخر مره وصلتني خلاص</td>\n",
       "      <td>0.0</td>\n",
       "      <td>0.00</td>\n",
       "      <td>Neutral</td>\n",
       "    </tr>\n",
       "    <tr>\n",
       "      <th>22247</th>\n",
       "      <td>neg</td>\n",
       "      <td>يطعني شيخ .</td>\n",
       "      <td>0.0</td>\n",
       "      <td>0.00</td>\n",
       "      <td>Neutral</td>\n",
       "    </tr>\n",
       "    <tr>\n",
       "      <th>6647</th>\n",
       "      <td>pos</td>\n",
       "      <td>الخيير</td>\n",
       "      <td>0.0</td>\n",
       "      <td>0.00</td>\n",
       "      <td>Neutral</td>\n",
       "    </tr>\n",
       "    <tr>\n",
       "      <th>149</th>\n",
       "      <td>pos</td>\n",
       "      <td>يلاقيها الاهلي البشير</td>\n",
       "      <td>0.0</td>\n",
       "      <td>0.00</td>\n",
       "      <td>Neutral</td>\n",
       "    </tr>\n",
       "    <tr>\n",
       "      <th>13076</th>\n",
       "      <td>pos</td>\n",
       "      <td>اللهم اجعلها أمطار خير وبركة عليكم رب</td>\n",
       "      <td>0.0</td>\n",
       "      <td>0.00</td>\n",
       "      <td>Neutral</td>\n",
       "    </tr>\n",
       "    <tr>\n",
       "      <th>16710</th>\n",
       "      <td>neg</td>\n",
       "      <td>الله ياخذك رجعت اتابعه</td>\n",
       "      <td>0.0</td>\n",
       "      <td>0.00</td>\n",
       "      <td>Neutral</td>\n",
       "    </tr>\n",
       "    <tr>\n",
       "      <th>3340</th>\n",
       "      <td>pos</td>\n",
       "      <td>باقي يوم الأثنين</td>\n",
       "      <td>0.0</td>\n",
       "      <td>0.00</td>\n",
       "      <td>Neutral</td>\n",
       "    </tr>\n",
       "    <tr>\n",
       "      <th>1312</th>\n",
       "      <td>neg</td>\n",
       "      <td>الام بدها تركب السيارة السيارة coupe حدا يقلي ...</td>\n",
       "      <td>0.0</td>\n",
       "      <td>0.00</td>\n",
       "      <td>Neutral</td>\n",
       "    </tr>\n",
       "    <tr>\n",
       "      <th>8957</th>\n",
       "      <td>neg</td>\n",
       "      <td>نعرفش :(</td>\n",
       "      <td>1.0</td>\n",
       "      <td>-0.75</td>\n",
       "      <td>Negative</td>\n",
       "    </tr>\n",
       "    <tr>\n",
       "      <th>18558</th>\n",
       "      <td>neg</td>\n",
       "      <td>ماعرفت انام زين والصدارة مو معنا</td>\n",
       "      <td>0.0</td>\n",
       "      <td>0.00</td>\n",
       "      <td>Neutral</td>\n",
       "    </tr>\n",
       "    <tr>\n",
       "      <th>21985</th>\n",
       "      <td>pos</td>\n",
       "      <td>مقال يدور حول الحمى يوشك ان يقع</td>\n",
       "      <td>0.0</td>\n",
       "      <td>0.00</td>\n",
       "      <td>Neutral</td>\n",
       "    </tr>\n",
       "  </tbody>\n",
       "</table>\n",
       "</div>"
      ],
      "text/plain": [
       "      state                            tweet_without_stopwords  sujectivity  \\\n",
       "10062   neg                                  قدرت ومافلعته بشي          0.0   \n",
       "2473    pos  توكل الإنسان خالقه الله سبحانه وتعالى أمده الل...          1.0   \n",
       "1141    pos                              خاطري كلام مير ماقلته          0.0   \n",
       "10979   neg                   شرطة الامارات سيارة_قطرية بالقوة          0.0   \n",
       "9265    neg                             دوامك يتغير لمده اسبوع          0.0   \n",
       "737     pos  طنجة المغرب تسكن قلوب ملايين العرب ،لازم تكون ...          0.0   \n",
       "15112   neg      الحب الموت ماله مواعيد والموت الحب ينهي حياتك          0.0   \n",
       "13581   neg         عادي اهم شيء ضحكنا ووسعنا صدورنا الي بيصير          0.0   \n",
       "15131   neg  يارب وطني يذوق الحياه بطعم الدم يتألم جراحه تن...          0.0   \n",
       "3573    pos                                        يسعد صباحكم          0.0   \n",
       "14787   pos  والقلب رمضان تواق اللهم بارك شعبان وسلمنا لرمض...          0.0   \n",
       "328     neg  افا اخرتها نردد نشيد الاتحاد طول عمرنا نهايط و...          0.0   \n",
       "16218   neg                        محتاجته لرمضان محطيني صباية          0.0   \n",
       "10841   neg                             المشكله انا اللي صحيته          0.0   \n",
       "5066    neg                  بروح اقردن صراحه أظنه يعلمني منهي          0.0   \n",
       "10925   neg                                  فورتنايت ابي بنات          0.0   \n",
       "14748   pos  غيرك يجي يروح وأقول ( مسموح ) \" إنت \" تسوى بدو...          0.0   \n",
       "7431    pos                                  انا فسرتها المناخ          0.0   \n",
       "18703   neg  لون كندورة عبدالرحمن محمد عجيب ماتعرفله لون با...          0.0   \n",
       "8415    pos                    عقب عرفت الفايده اللي حرمت اكله          0.0   \n",
       "15357   neg                                      ععيوني الثنين          0.0   \n",
       "3358    pos  اشتاقت_لك_حيل أشتاق توك تروح وش حالتي طال عني ...          0.0   \n",
       "3409    pos                               الله يجمع الحي بالحي          0.0   \n",
       "1129    neg  قال : انتي بتستاهلي احسن مني - مسحت دموعها وقا...          0.0   \n",
       "1657    neg  لاتسألو فتاة مات أبيها حزنها لأنها لاتعرف السب...          0.0   \n",
       "20512   neg            جهازي العصبي بيتدمر قلة النوم ضغط الربو          0.0   \n",
       "10179   pos     المشاعر_هالليله_تقول اجا الليل شيخلصه الليل ..          0.0   \n",
       "18696   pos             بالنسبة وراي شخصي افصل فلم شفته بحياتي          0.0   \n",
       "17630   pos  الأهلي أخير ↩ لهبوط الأهلي الأهلي مركز ↩ حرك ش...          0.0   \n",
       "17255   neg  اللهن المطر بشرنا بشفاء صديقتي شفاء يغادر سقما...          0.0   \n",
       "12050   neg                                   وصوت الرصاص كمان          0.0   \n",
       "21431   neg                 المعنويات صفر وذلك بسبب غياب منصور          0.0   \n",
       "22535   pos  ماخنت حبك يوم الاحباب خانت شبيت لگ نار الوفاء ...          0.0   \n",
       "19546   neg  ألوس بليز ردي مشاريع لحفلات قريبا بأوروبا عنا ...          0.0   \n",
       "11388   neg                                    اوبس :( ، اكلمك          1.0   \n",
       "15886   neg                       المطلوب شنو نهج احنا هماتين.          0.0   \n",
       "9636    neg                                          مشهد مرعب          0.0   \n",
       "21254   neg                ال مايشوف أمه بصباحه هوه والميت سوا          0.0   \n",
       "12066   pos  انا جدول الضرب ينضرب الارقاام يختلف تطلع الشمس...          0.0   \n",
       "14300   neg                         تكفيين اخر مره وصلتني خلاص          0.0   \n",
       "22247   neg                                        يطعني شيخ .          0.0   \n",
       "6647    pos                                             الخيير          0.0   \n",
       "149     pos                              يلاقيها الاهلي البشير          0.0   \n",
       "13076   pos              اللهم اجعلها أمطار خير وبركة عليكم رب          0.0   \n",
       "16710   neg                             الله ياخذك رجعت اتابعه          0.0   \n",
       "3340    pos                                   باقي يوم الأثنين          0.0   \n",
       "1312    neg  الام بدها تركب السيارة السيارة coupe حدا يقلي ...          0.0   \n",
       "8957    neg                                           نعرفش :(          1.0   \n",
       "18558   neg                   ماعرفت انام زين والصدارة مو معنا          0.0   \n",
       "21985   pos                    مقال يدور حول الحمى يوشك ان يقع          0.0   \n",
       "\n",
       "       polarity  Analysis  \n",
       "10062      0.00   Neutral  \n",
       "2473      -0.75  Negative  \n",
       "1141       0.00   Neutral  \n",
       "10979      0.00   Neutral  \n",
       "9265       0.00   Neutral  \n",
       "737        0.00   Neutral  \n",
       "15112      0.00   Neutral  \n",
       "13581      0.00   Neutral  \n",
       "15131      0.00   Neutral  \n",
       "3573       0.00   Neutral  \n",
       "14787      0.00   Neutral  \n",
       "328        0.00   Neutral  \n",
       "16218      0.00   Neutral  \n",
       "10841      0.00   Neutral  \n",
       "5066       0.00   Neutral  \n",
       "10925      0.00   Neutral  \n",
       "14748      0.00   Neutral  \n",
       "7431       0.00   Neutral  \n",
       "18703      0.00   Neutral  \n",
       "8415       0.00   Neutral  \n",
       "15357      0.00   Neutral  \n",
       "3358       0.00   Neutral  \n",
       "3409       0.00   Neutral  \n",
       "1129       0.00   Neutral  \n",
       "1657       0.00   Neutral  \n",
       "20512      0.00   Neutral  \n",
       "10179      0.00   Neutral  \n",
       "18696      0.00   Neutral  \n",
       "17630      0.00   Neutral  \n",
       "17255      0.00   Neutral  \n",
       "12050      0.00   Neutral  \n",
       "21431      0.00   Neutral  \n",
       "22535      0.00   Neutral  \n",
       "19546      0.00   Neutral  \n",
       "11388     -0.75  Negative  \n",
       "15886      0.00   Neutral  \n",
       "9636       0.00   Neutral  \n",
       "21254      0.00   Neutral  \n",
       "12066      0.00   Neutral  \n",
       "14300      0.00   Neutral  \n",
       "22247      0.00   Neutral  \n",
       "6647       0.00   Neutral  \n",
       "149        0.00   Neutral  \n",
       "13076      0.00   Neutral  \n",
       "16710      0.00   Neutral  \n",
       "3340       0.00   Neutral  \n",
       "1312       0.00   Neutral  \n",
       "8957      -0.75  Negative  \n",
       "18558      0.00   Neutral  \n",
       "21985      0.00   Neutral  "
      ]
     },
     "execution_count": 32,
     "metadata": {},
     "output_type": "execute_result"
    }
   ],
   "source": [
    "df.head(50)"
   ]
  },
  {
   "cell_type": "markdown",
   "id": "1bea9426",
   "metadata": {},
   "source": [
    "### plotting graphical representation for the result of sentiment analysis"
   ]
  },
  {
   "cell_type": "code",
   "execution_count": 33,
   "id": "f4b436cf",
   "metadata": {},
   "outputs": [
    {
     "data": {
      "text/plain": [
       "<seaborn.axisgrid.FacetGrid at 0x1ef57629460>"
      ]
     },
     "execution_count": 33,
     "metadata": {},
     "output_type": "execute_result"
    },
    {
     "data": {
      "image/png": "[encoded data removed]",
      "text/plain": [
       "<Figure size 360x360 with 1 Axes>"
      ]
     },
     "metadata": {
      "needs_background": "light"
     },
     "output_type": "display_data"
    }
   ],
   "source": [
    "sns.displot(df['Analysis'])"
   ]
  },
  {
   "cell_type": "code",
   "execution_count": 34,
   "id": "970c4a9c",
   "metadata": {},
   "outputs": [
    {
     "name": "stdout",
     "output_type": "stream",
     "text": [
      "10783    تعبت وانا اعيده يتعبب موت اف الموتشي :'(\n",
      "Name: tweet_without_stopwords, dtype: object\n"
     ]
    }
   ],
   "source": [
    "most_negative=df[df.polarity==-1].tweet_without_stopwords.head()\n",
    "print(most_negative)"
   ]
  },
  {
   "cell_type": "code",
   "execution_count": 35,
   "id": "3616ba3d",
   "metadata": {},
   "outputs": [
    {
     "name": "stdout",
     "output_type": "stream",
     "text": [
      "20873                             بقت نواقض الرجولة ايه :D\n",
      "2909     يقولون ان الدنيا حلوه :D — watching Karmouz Wa...\n",
      "68       بعرف اني اسوء حالاتي بتجه للساوند كلاود افتح ب...\n",
      "6001     مين احلى انا احلى شوية طبعا بنات روسيا جامدين ...\n",
      "11858            :D فرتكتى الجبهة بتاعتنا ده شكله عبيط فكك\n",
      "Name: tweet_without_stopwords, dtype: object\n"
     ]
    }
   ],
   "source": [
    "most_positive=df[df.polarity==1].tweet_without_stopwords.tail()\n",
    "print(most_positive)"
   ]
  },
  {
   "cell_type": "markdown",
   "id": "6a64ad57",
   "metadata": {},
   "source": [
    "### Convert Textual data to feature vectors"
   ]
  },
  {
   "cell_type": "code",
   "execution_count": 36,
   "id": "3ad549da",
   "metadata": {},
   "outputs": [],
   "source": [
    "x=df['tweet_without_stopwords'].values"
   ]
  },
  {
   "cell_type": "code",
   "execution_count": 37,
   "id": "5102e871",
   "metadata": {},
   "outputs": [],
   "source": [
    "vectorizer = TfidfVectorizer(max_features=100,\n",
    "                              max_df=0.8,\n",
    "                              min_df=5,\n",
    "                             ngram_range=(1,3))\n",
    "\n",
    "vectors=vectorizer.fit_transform(x)"
   ]
  },
  {
   "cell_type": "code",
   "execution_count": 38,
   "id": "1d56e328",
   "metadata": {},
   "outputs": [
    {
     "name": "stdout",
     "output_type": "stream",
     "text": [
      "  (1, 6)\t0.6567611071364572\n",
      "  (1, 20)\t0.7540986992117775\n",
      "  (5, 43)\t1.0\n",
      "  (6, 9)\t1.0\n",
      "  (7, 28)\t0.6845068224482642\n",
      "  (7, 61)\t0.7290064540330081\n",
      "  (8, 21)\t0.6685337448807784\n",
      "  (8, 95)\t0.7436818082726526\n",
      "  (10, 21)\t1.0\n",
      "  (11, 26)\t0.6784496906726797\n",
      "  (11, 8)\t0.7346468656614177\n",
      "  (13, 22)\t0.7206661979171597\n",
      "  (13, 31)\t0.6932822161137737\n",
      "  (17, 31)\t1.0\n",
      "  (18, 82)\t1.0\n",
      "  (19, 22)\t1.0\n",
      "  (21, 93)\t1.0\n",
      "  (22, 20)\t1.0\n",
      "  (23, 33)\t0.7476960162223216\n",
      "  (23, 72)\t0.6640411638786181\n",
      "  (24, 15)\t0.47507573015025245\n",
      "  (24, 76)\t0.5100709895589124\n",
      "  (24, 70)\t0.5314742754102283\n",
      "  (24, 6)\t0.4813166637565846\n",
      "  (28, 84)\t0.6920646340426273\n",
      "  :\t:\n",
      "  (29531, 95)\t0.7436818082726526\n",
      "  (29533, 39)\t0.7853603565487344\n",
      "  (29533, 22)\t0.6190388601385579\n",
      "  (29534, 94)\t1.0\n",
      "  (29535, 14)\t0.6867372762697139\n",
      "  (29535, 84)\t0.726905711479594\n",
      "  (29536, 11)\t0.7189278737230049\n",
      "  (29536, 10)\t0.6950846800096513\n",
      "  (29541, 90)\t0.46944027133071764\n",
      "  (29541, 91)\t0.5863288104595915\n",
      "  (29541, 86)\t0.5614440878185619\n",
      "  (29541, 20)\t0.34731094703675186\n",
      "  (29543, 93)\t1.0\n",
      "  (29544, 84)\t1.0\n",
      "  (29545, 33)\t1.0\n",
      "  (29546, 20)\t1.0\n",
      "  (29547, 90)\t1.0\n",
      "  (29548, 88)\t0.6919336420323561\n",
      "  (29548, 30)\t0.5353084329627807\n",
      "  (29548, 31)\t0.48443030109890045\n",
      "  (29549, 77)\t1.0\n",
      "  (29551, 97)\t1.0\n",
      "  (29553, 37)\t0.5939885059017928\n",
      "  (29553, 73)\t0.6436972661266515\n",
      "  (29553, 30)\t0.4825261489677329\n"
     ]
    }
   ],
   "source": [
    "print(vectors)"
   ]
  },
  {
   "cell_type": "code",
   "execution_count": 39,
   "id": "82c75b85",
   "metadata": {},
   "outputs": [],
   "source": [
    "feature_names = vectorizer.get_feature_names()"
   ]
  },
  {
   "cell_type": "code",
   "execution_count": 40,
   "id": "a5647d85",
   "metadata": {},
   "outputs": [
    {
     "name": "stdout",
     "output_type": "stream",
     "text": [
      "['neg', 'pos', 'إني', 'احد', 'اذا', 'اكثر', 'ال', 'الا', 'الاتحاد', 'الحب', 'الحمد', 'الحمدلله', 'الحياة', 'الحين', 'الخير', 'الدنيا', 'الصباح', 'العظيم', 'الف', 'القلب', 'الله', 'اللهم', 'اللي', 'المطر', 'الناس', 'النصر', 'الهلال', 'الى', 'الي', 'اليوم', 'ان', 'انا', 'انت', 'انتي', 'انك', 'انه', 'اني', 'او', 'اول', 'اي', 'ايه', 'بالله', 'بكل', 'تكون', 'جدا', 'جميل', 'حب', 'حد', 'حلو', 'خير', 'دا', 'ده', 'دي', 'رب', 'ربنا', 'ربي', 'زي', 'شاء', 'شاء الله', 'شخص', 'شي', 'شيء', 'صباحك', 'صح', 'طيب', 'عشان', 'علي', 'علينا', 'عندما', 'عندي', 'فقط', 'فيك', 'قال', 'قلب', 'قلبك', 'قلبي', 'كانت', 'كنت', 'لكل', 'لله', 'ليش', 'ليه', 'محمد', 'مره', 'مش', 'منك', 'مو', 'ناس', 'نفسي', 'هه', 'والله', 'وانا', 'وانت', 'وش', 'وين', 'يارب', 'يعني', 'يقول', 'يكون', 'يوم']\n"
     ]
    }
   ],
   "source": [
    "print(feature_names)"
   ]
  },
  {
   "cell_type": "markdown",
   "id": "054b3638",
   "metadata": {},
   "source": [
    "### cross validation using (k-fold)"
   ]
  },
  {
   "cell_type": "code",
   "execution_count": 41,
   "id": "df66f970",
   "metadata": {},
   "outputs": [
    {
     "name": "stdout",
     "output_type": "stream",
     "text": [
      "Fold 1\n",
      "train data:  [    0     1     2 ... 29551 29552 29553] \n",
      "\n",
      " test data : [    8    20    32 ... 29523 29538 29544]\n",
      "Fold 2\n",
      "train data:  [    0     2     3 ... 29551 29552 29553] \n",
      "\n",
      " test data : [    1     4    28 ... 29506 29508 29531]\n",
      "Fold 3\n",
      "train data:  [    0     1     2 ... 29551 29552 29553] \n",
      "\n",
      " test data : [   11    23    36 ... 29528 29536 29540]\n",
      "Fold 4\n",
      "train data:  [    0     1     2 ... 29551 29552 29553] \n",
      "\n",
      " test data : [   57    62   102 ... 29452 29462 29507]\n",
      "Fold 5\n",
      "train data:  [    0     1     2 ... 29551 29552 29553] \n",
      "\n",
      " test data : [   38    65    71 ... 29501 29514 29534]\n",
      "Fold 6\n",
      "train data:  [    1     3     4 ... 29550 29552 29553] \n",
      "\n",
      " test data : [    0     2    14 ... 29524 29542 29551]\n",
      "Fold 7\n",
      "train data:  [    0     1     2 ... 29551 29552 29553] \n",
      "\n",
      " test data : [   19    31    70 ... 29505 29530 29549]\n",
      "Fold 8\n",
      "train data:  [    0     1     2 ... 29551 29552 29553] \n",
      "\n",
      " test data : [   10    18    24 ... 29434 29527 29535]\n",
      "Fold 9\n",
      "train data:  [    0     1     2 ... 29549 29551 29553] \n",
      "\n",
      " test data : [   44    93    97 ... 29541 29550 29552]\n",
      "Fold 10\n",
      "train data:  [    0     1     2 ... 29551 29552 29553] \n",
      "\n",
      " test data : [   30    40    45 ... 29490 29517 29533]\n",
      "Fold 11\n",
      "train data:  [    0     1     2 ... 29551 29552 29553] \n",
      "\n",
      " test data : [   61    81   158 ... 29474 29491 29502]\n",
      "Fold 12\n",
      "train data:  [    0     1     2 ... 29551 29552 29553] \n",
      "\n",
      " test data : [   74   134   156 ... 29515 29543 29545]\n",
      "Fold 13\n",
      "train data:  [    0     1     2 ... 29551 29552 29553] \n",
      "\n",
      " test data : [   42    52    60 ... 29483 29495 29525]\n",
      "Fold 14\n",
      "train data:  [    0     1     2 ... 29551 29552 29553] \n",
      "\n",
      " test data : [    5    16    25 ... 29496 29522 29532]\n",
      "Fold 15\n",
      "train data:  [    0     1     2 ... 29550 29551 29552] \n",
      "\n",
      " test data : [   13    29    54 ... 29498 29520 29553]\n",
      "Fold 16\n",
      "train data:  [    0     1     2 ... 29551 29552 29553] \n",
      "\n",
      " test data : [    3     7     9 ... 29499 29509 29529]\n",
      "Fold 17\n",
      "train data:  [    0     1     2 ... 29551 29552 29553] \n",
      "\n",
      " test data : [   22    67    73 ... 29512 29546 29547]\n",
      "Fold 18\n",
      "train data:  [    0     1     2 ... 29551 29552 29553] \n",
      "\n",
      " test data : [   12    39    53 ... 29519 29539 29548]\n",
      "Fold 19\n",
      "train data:  [    0     1     2 ... 29551 29552 29553] \n",
      "\n",
      " test data : [   17    46    49 ... 29489 29521 29526]\n",
      "Fold 20\n",
      "train data:  [    0     1     2 ... 29551 29552 29553] \n",
      "\n",
      " test data : [    6    15    21 ... 29479 29484 29518]\n"
     ]
    }
   ],
   "source": [
    "from sklearn.model_selection import KFold\n",
    "kf= KFold(n_splits=20 ,random_state = 22 , shuffle = True )\n",
    "i = 1\n",
    "for train_index,test_index in kf.split(df):\n",
    "    print(\"Fold\",i)\n",
    "    print (\"train data: \", train_index, \"\\n\")\n",
    "    print (\" test data :\",test_index)\n",
    "    i +=1\n",
    "  "
   ]
  },
  {
   "cell_type": "markdown",
   "id": "25ab122d",
   "metadata": {},
   "source": [
    "###  applying different types of classifiers "
   ]
  },
  {
   "cell_type": "code",
   "execution_count": 42,
   "id": "459f26f8",
   "metadata": {},
   "outputs": [
    {
     "name": "stdout",
     "output_type": "stream",
     "text": [
      "accuracy= 0.6007660308766901\n",
      "F1_score= 0.5839530844398628\n"
     ]
    }
   ],
   "source": [
    "Y=df['state']\n",
    "classifier1 = LogisticRegression()\n",
    "accuracy=cross_val_score(classifier1  ,vectors,Y , cv=kf, scoring='accuracy'  , n_jobs= -1 ).mean()\n",
    "print(\"accuracy=\",accuracy)\n",
    "classifier1.fit(vectors,Y)\n",
    "y_pred= classifier1.predict(vectors)\n",
    "F_score=f1_score(Y,y_pred,average='macro')\n",
    "print(\"F1_score=\",F_score)"
   ]
  },
  {
   "cell_type": "code",
   "execution_count": 45,
   "id": "5779bf61",
   "metadata": {},
   "outputs": [
    {
     "name": "stdout",
     "output_type": "stream",
     "text": [
      "accuracy= 0.5965700506549226\n",
      "F1_score= 0.6262741906889987\n"
     ]
    }
   ],
   "source": [
    "from sklearn.svm import SVC\n",
    "Y=df['state']\n",
    "svm=SVC()\n",
    "accuracy=cross_val_score(svm ,vectors,Y , cv=kf, scoring='accuracy'  , n_jobs= -1 ).mean()\n",
    "print(\"accuracy=\",accuracy)\n",
    "svm.fit(vectors,Y)\n",
    "y_pred= svm.predict(vectors)\n",
    "F_score=f1_score(Y,y_pred,average='macro')\n",
    "print(\"F1_score=\",F_score)"
   ]
  },
  {
   "cell_type": "code",
   "execution_count": 46,
   "id": "23bbe85c",
   "metadata": {},
   "outputs": [
    {
     "name": "stdout",
     "output_type": "stream",
     "text": [
      "accuracy= 0.587636909839002\n",
      "F1_score= 0.6513630572623601\n"
     ]
    }
   ],
   "source": [
    "from sklearn.tree import DecisionTreeClassifier\n",
    "Y=df['state']\n",
    "classifier3=DecisionTreeClassifier()\n",
    "accuracy=cross_val_score(classifier3 ,vectors,Y , cv=kf, scoring='accuracy'  , n_jobs= -1 ).mean()\n",
    "print(\"accuracy=\",accuracy)\n",
    "classifier3.fit(vectors,Y)\n",
    "y_pred= classifier3.predict(vectors)\n",
    "F_score=f1_score(Y,y_pred,average='macro')\n",
    "print(\"F1_score=\",F_score)"
   ]
  },
  {
   "cell_type": "code",
   "execution_count": null,
   "id": "7b2882cf",
   "metadata": {},
   "outputs": [],
   "source": []
  }
 ],
 "metadata": {
  "kernelspec": {
   "display_name": "Python 3",
   "language": "python",
   "name": "python3"
  },
  "language_info": {
   "codemirror_mode": {
    "name": "ipython",
    "version": 3
   },
   "file_extension": ".py",
   "mimetype": "text/x-python",
   "name": "python",
   "nbconvert_exporter": "python",
   "pygments_lexer": "ipython3",
   "version": "3.8.8"
  }
 },
 "nbformat": 4,
 "nbformat_minor": 5
}
